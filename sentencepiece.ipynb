{
  "nbformat": 4,
  "nbformat_minor": 0,
  "metadata": {
    "colab": {
      "provenance": [],
      "include_colab_link": true
    },
    "kernelspec": {
      "name": "python3",
      "display_name": "Python 3"
    },
    "language_info": {
      "name": "python"
    }
  },
  "cells": [
    {
      "cell_type": "markdown",
      "metadata": {
        "id": "view-in-github",
        "colab_type": "text"
      },
      "source": [
        "<a href=\"https://colab.research.google.com/github/Alerza/nlp_task/blob/main/sentencepiece.ipynb\" target=\"_parent\"><img src=\"https://colab.research.google.com/assets/colab-badge.svg\" alt=\"Open In Colab\"/></a>"
      ]
    },
    {
      "cell_type": "code",
      "source": [
        "!pip install sentencepiece\n",
        "!pip install datasets\n",
        "\n"
      ],
      "metadata": {
        "id": "ldBtbFrWkBOH"
      },
      "execution_count": null,
      "outputs": []
    },
    {
      "cell_type": "code",
      "source": [
        "import  datasets\n",
        "dataset_fa = datasets.load_dataset(\"wiki_summary\")"
      ],
      "metadata": {
        "id": "YZGcc9z583g-"
      },
      "execution_count": null,
      "outputs": []
    },
    {
      "cell_type": "code",
      "source": [
        "\n",
        "with open(\"aa.txt\",\"w\") as wr:\n",
        "    for item in dataset_fa['train']['article']:\n",
        "        wr.write(\"\\t\".join(item.split(\" \")) + \"\\n\")"
      ],
      "metadata": {
        "id": "TAFiVzjP9Mum"
      },
      "execution_count": null,
      "outputs": []
    },
    {
      "cell_type": "code",
      "execution_count": null,
      "metadata": {
        "id": "aOZLy_Mhj8TW"
      },
      "outputs": [],
      "source": [
        "import sentencepiece as spm"
      ]
    },
    {
      "cell_type": "code",
      "source": [
        "import sentencepiece as spm\n",
        "import time\n",
        "\n",
        "# train for these sizes\n",
        "vocab_sizes = [8000, 16000, 32000, 48000]\n",
        "\n",
        "def train_fa(vocab_size):\n",
        "\n",
        "    start = time.time()\n",
        "    model_prefix =  \"vocab_\" + str(vocab_size)\n",
        "    spm.SentencePieceTrainer.train(input='/content/aa.txt'\n",
        "                                           , model_prefix=model_prefix\n",
        "                                           , vocab_size=vocab_size\n",
        "                                           , character_coverage = 0.9995\n",
        "                                           , num_threads=60\n",
        "                                           , train_extremely_large_corpus=True\n",
        "                                          ) \n",
        "    print(\"Trained {} in {} seconds\".format(model_prefix, time.time()-start))\n",
        "\n",
        "# train\n",
        "for vocab_size in vocab_sizes:\n",
        "    train_fa(vocab_size)"
      ],
      "metadata": {
        "id": "LcLPONWPm2AV",
        "colab": {
          "base_uri": "https://localhost:8080/"
        },
        "outputId": "6097b223-35ad-433d-8051-14f984e3b393"
      },
      "execution_count": null,
      "outputs": [
        {
          "output_type": "stream",
          "name": "stdout",
          "text": [
            "Trained cc100_fa_vocab_8000 in 59.51675534248352 seconds\n",
            "Trained cc100_fa_vocab_16000 in 53.00943684577942 seconds\n",
            "Trained cc100_fa_vocab_32000 in 44.2749547958374 seconds\n",
            "Trained cc100_fa_vocab_48000 in 40.18060231208801 seconds\n"
          ]
        }
      ]
    },
    {
      "cell_type": "code",
      "source": [
        "sp = spm.SentencePieceProcessor()\n",
        "sp.load('/content/cc100_fa_vocab_16000.model')"
      ],
      "metadata": {
        "colab": {
          "base_uri": "https://localhost:8080/"
        },
        "id": "lJn5IepnEX1q",
        "outputId": "181e9d25-26ae-4fa1-fbd8-4a9287047edb"
      },
      "execution_count": null,
      "outputs": [
        {
          "output_type": "execute_result",
          "data": {
            "text/plain": [
              "True"
            ]
          },
          "metadata": {},
          "execution_count": 59
        }
      ]
    },
    {
      "cell_type": "code",
      "source": [
        "# encode: text => id\n",
        "print(sp.encode_as_pieces(\"شب چهارم دیگه طاقت نیاوردم یه فریدون فروغی زدمو وسطای کورش یغمایی بودم\"))\n",
        "print(sp.encode_as_ids(\"شب چهارم دیگه طاقت نیاوردم یه فریدون فروغی زدمو وسطای کورش یغمایی بودم\"))\n",
        "\n",
        "# decode: id => text\n",
        "print(sp.decode_pieces(['▁This', '▁is', '▁a', '▁t', 'est']))\n",
        "print(sp.decode_ids([20343]))"
      ],
      "metadata": {
        "id": "1UGhS--rE0Jn"
      },
      "execution_count": null,
      "outputs": []
    }
  ]
}