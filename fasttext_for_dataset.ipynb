{
  "nbformat": 4,
  "nbformat_minor": 0,
  "metadata": {
    "colab": {
      "provenance": [],
      "machine_shape": "hm",
      "authorship_tag": "ABX9TyMFugDda2WiH/ZM27JidRg6",
      "include_colab_link": true
    },
    "kernelspec": {
      "name": "python3",
      "display_name": "Python 3"
    },
    "language_info": {
      "name": "python"
    },
    "gpuClass": "standard"
  },
  "cells": [
    {
      "cell_type": "markdown",
      "metadata": {
        "id": "view-in-github",
        "colab_type": "text"
      },
      "source": [
        "<a href=\"https://colab.research.google.com/github/Alerza/nlp_task/blob/main/fasttext_for_dataset.ipynb\" target=\"_parent\"><img src=\"https://colab.research.google.com/assets/colab-badge.svg\" alt=\"Open In Colab\"/></a>"
      ]
    },
    {
      "cell_type": "code",
      "source": [
        "from IPython.display import clear_output "
      ],
      "metadata": {
        "id": "9yMcA3Qr2JGZ"
      },
      "execution_count": 1,
      "outputs": []
    },
    {
      "cell_type": "code",
      "execution_count": 2,
      "metadata": {
        "id": "aJeTP_IhZ1G7"
      },
      "outputs": [],
      "source": [
        "!pip install mwparserfromhell==0.6.4 multiprocess==0.70.13\n",
        "clear_output()"
      ]
    },
    {
      "cell_type": "code",
      "source": [
        "!pip install fasttext\n",
        "!pip install sentencepiece\n",
        "!pip install datasets\n",
        "clear_output()"
      ],
      "metadata": {
        "id": "VU_5xlymaA7o"
      },
      "execution_count": 3,
      "outputs": []
    },
    {
      "cell_type": "code",
      "source": [
        "from google.colab import drive\n",
        "drive.mount('/content/drive')"
      ],
      "metadata": {
        "id": "tB9jG30VczKl",
        "colab": {
          "base_uri": "https://localhost:8080/"
        },
        "outputId": "a5fac15e-8b29-442f-a411-d31f42b001eb"
      },
      "execution_count": 4,
      "outputs": [
        {
          "output_type": "stream",
          "name": "stdout",
          "text": [
            "Mounted at /content/drive\n"
          ]
        }
      ]
    },
    {
      "cell_type": "code",
      "source": [
        "import numpy as np\n"
      ],
      "metadata": {
        "id": "IK7ims6VsfMw"
      },
      "execution_count": 13,
      "outputs": []
    },
    {
      "cell_type": "code",
      "source": [
        "from datasets import load_dataset\n",
        "\n",
        "dataset_simple = load_dataset(\"olm/wikipedia\", language=\"simple\", date=\"20230320\")"
      ],
      "metadata": {
        "id": "51HP5krUZ-2q"
      },
      "execution_count": null,
      "outputs": []
    },
    {
      "cell_type": "code",
      "source": [
        "dataset_simple"
      ],
      "metadata": {
        "colab": {
          "base_uri": "https://localhost:8080/"
        },
        "id": "ZAAMz35dRVqY",
        "outputId": "cfaf04bc-cbc5-4207-8f18-2fa11db83e5f"
      },
      "execution_count": null,
      "outputs": [
        {
          "output_type": "execute_result",
          "data": {
            "text/plain": [
              "DatasetDict({\n",
              "    train: Dataset({\n",
              "        features: ['id', 'url', 'title', 'text'],\n",
              "        num_rows: 228181\n",
              "    })\n",
              "})"
            ]
          },
          "metadata": {},
          "execution_count": 6
        }
      ]
    },
    {
      "cell_type": "code",
      "source": [
        "dataset_simple.save_to_disk('/content/drive/MyDrive/DataSet/simpleenWikiDataset.hfd')"
      ],
      "metadata": {
        "id": "zqzb0bhKRjZt"
      },
      "execution_count": null,
      "outputs": []
    },
    {
      "cell_type": "code",
      "source": [
        "from datasets import load_from_disk\n",
        "dataset_simple = load_from_disk('/content/drive/MyDrive/DataSet/simpleenWikiDataset.hfd')"
      ],
      "metadata": {
        "id": "6xvVtuerlHTN"
      },
      "execution_count": 5,
      "outputs": []
    },
    {
      "cell_type": "code",
      "source": [
        "newdata = dataset_simple['train']['text'][::50]"
      ],
      "metadata": {
        "id": "5lVW0F58dLQU"
      },
      "execution_count": 12,
      "outputs": []
    },
    {
      "cell_type": "code",
      "source": [
        "len(newdata)"
      ],
      "metadata": {
        "colab": {
          "base_uri": "https://localhost:8080/"
        },
        "id": "HwnTxuTDOPM7",
        "outputId": "7fe23991-01fc-4e9a-bfee-0dcfd127a0e6"
      },
      "execution_count": 13,
      "outputs": [
        {
          "output_type": "execute_result",
          "data": {
            "text/plain": [
              "4564"
            ]
          },
          "metadata": {},
          "execution_count": 13
        }
      ]
    },
    {
      "cell_type": "code",
      "source": [
        "with open(\"data.txt\",\"w\") as wr:\n",
        "    for item in newdata:\n",
        "        wr.write(\"\\t\".join(item.split(\" \")) + \"\\n\")"
      ],
      "metadata": {
        "id": "9kYx-1_Ddl-Q"
      },
      "execution_count": 14,
      "outputs": []
    },
    {
      "cell_type": "code",
      "source": [
        "from datasets import load_dataset\n",
        "dataset_fa = load_dataset(\"wiki_summary\")\n",
        "newdata = dataset_fa['train']['article']#[::50]\n",
        "with open(\"datafa.txt\",\"w\") as wr:\n",
        "    for item in newdata:\n",
        "        wr.write(\"\\t\".join(item.split(\" \")) + \"\\n\")"
      ],
      "metadata": {
        "id": "HXnap8Zfxiu2"
      },
      "execution_count": null,
      "outputs": []
    },
    {
      "cell_type": "code",
      "source": [
        "# Python program to merge two files \n",
        "data = data2 = \"\" \n",
        "  \n",
        "# Reading data from first file \n",
        "with open('data.txt') as fp: \n",
        "    data = fp.read() \n",
        "with open('datafa.txt') as fp: \n",
        "    data2 = fp.read() \n",
        "# Merging two files into one another file \n",
        "data += \"\\n\"\n",
        "data += data2 \n",
        "with open ('/content/drive/MyDrive/DataSet/fasttext/finaltext.txt', 'w') as fp: \n",
        "  fp.write(data)"
      ],
      "metadata": {
        "id": "3C1bCN2BzBED"
      },
      "execution_count": null,
      "outputs": []
    },
    {
      "cell_type": "code",
      "source": [
        "!pip install -q git+https://github.com/huggingface/transformers.git"
      ],
      "metadata": {
        "id": "lINTjWNzq1wZ"
      },
      "execution_count": null,
      "outputs": []
    },
    {
      "cell_type": "code",
      "source": [
        "from transformers import LlamaTokenizer, LlamaForCausalLM\n",
        "\n",
        "tokenizer = LlamaTokenizer.from_pretrained(\"decapoda-research/llama-7b-hf\")"
      ],
      "metadata": {
        "id": "oVeG_jk0aWFP"
      },
      "execution_count": null,
      "outputs": []
    },
    {
      "cell_type": "code",
      "source": [
        "with open('data.txt') as fp: \n",
        "    data = fp.read()\n",
        "    datat = tokenizer.tokenize(data)\n",
        "with open ('finaltext.txt', 'w') as fp:\n",
        "  st = ' '.join(str(x) for x in datat) \n",
        "  fp.write(st)\n"
      ],
      "metadata": {
        "id": "CMoq3fAea6XQ"
      },
      "execution_count": null,
      "outputs": []
    },
    {
      "cell_type": "code",
      "source": [
        "import gc\n",
        "\n",
        "del newdata\n",
        "#del data2\n",
        "#del dataset_simple\n",
        "\n",
        "\n",
        "gc.collect()"
      ],
      "metadata": {
        "id": "ltSgBgjJeI0o"
      },
      "execution_count": null,
      "outputs": []
    },
    {
      "cell_type": "code",
      "source": [
        "import fasttext\n",
        "model = fasttext.train_unsupervised('ttf.txt', model='skipgram',dim=2048)"
      ],
      "metadata": {
        "id": "Q4LO_AhkePtQ"
      },
      "execution_count": 5,
      "outputs": []
    },
    {
      "cell_type": "code",
      "source": [
        "model.save_model('/content/drive/MyDrive/DataSet/myOwnFasttext/fasttext_token_simple_dim2048_cbow.model')"
      ],
      "metadata": {
        "id": "S0L2qdpPeWFg"
      },
      "execution_count": 3,
      "outputs": []
    },
    {
      "cell_type": "code",
      "source": [
        "model.save_model('fasttext_simple_dim2048_cbow.model')"
      ],
      "metadata": {
        "id": "lQmaHFSGXTll"
      },
      "execution_count": 6,
      "outputs": []
    },
    {
      "cell_type": "code",
      "source": [
        "import fasttext\n",
        "model =  fasttext.load_model('/content/fasttext_simple_dim2048_cbow.model')"
      ],
      "metadata": {
        "colab": {
          "base_uri": "https://localhost:8080/"
        },
        "id": "mimJFKLIu0eo",
        "outputId": "cad62c58-8470-4169-d22a-47aaf6078c13"
      },
      "execution_count": 11,
      "outputs": [
        {
          "output_type": "stream",
          "name": "stderr",
          "text": [
            "Warning : `load_model` does not return WordVectorModel or SupervisedModel any more, but a `FastText` object which is very similar.\n"
          ]
        }
      ]
    },
    {
      "cell_type": "code",
      "source": [
        "len(model.words)"
      ],
      "metadata": {
        "colab": {
          "base_uri": "https://localhost:8080/"
        },
        "id": "o43ecmCD6GrX",
        "outputId": "b527d9d0-140b-4ec9-9c01-9322e386ba1b"
      },
      "execution_count": 3,
      "outputs": [
        {
          "output_type": "execute_result",
          "data": {
            "text/plain": [
              "6777"
            ]
          },
          "metadata": {},
          "execution_count": 3
        }
      ]
    },
    {
      "cell_type": "code",
      "source": [
        "import pandas as pd\n",
        "words = model.get_words()\n",
        "words_df = pd.DataFrame(words, columns=['token'])\n",
        "words_df['ftindex'] = words_df.index\n",
        "words_df"
      ],
      "metadata": {
        "id": "8MijgbSlBr83",
        "colab": {
          "base_uri": "https://localhost:8080/",
          "height": 423
        },
        "outputId": "b54ee32a-0287-4194-e474-7d5040527d52"
      },
      "execution_count": 4,
      "outputs": [
        {
          "output_type": "execute_result",
          "data": {
            "text/plain": [
              "      token  ftindex\n",
              "0         .        0\n",
              "1         ,        1\n",
              "2         1        2\n",
              "3       the        3\n",
              "4         0        4\n",
              "...     ...      ...\n",
              "6772      오     6772\n",
              "6773  xture     6773\n",
              "6774   imen     6774\n",
              "6775      Қ     6775\n",
              "6776    kor     6776\n",
              "\n",
              "[6777 rows x 2 columns]"
            ],
            "text/html": [
              "\n",
              "  <div id=\"df-ca226b82-42af-4ee6-988d-c219d161df2c\">\n",
              "    <div class=\"colab-df-container\">\n",
              "      <div>\n",
              "<style scoped>\n",
              "    .dataframe tbody tr th:only-of-type {\n",
              "        vertical-align: middle;\n",
              "    }\n",
              "\n",
              "    .dataframe tbody tr th {\n",
              "        vertical-align: top;\n",
              "    }\n",
              "\n",
              "    .dataframe thead th {\n",
              "        text-align: right;\n",
              "    }\n",
              "</style>\n",
              "<table border=\"1\" class=\"dataframe\">\n",
              "  <thead>\n",
              "    <tr style=\"text-align: right;\">\n",
              "      <th></th>\n",
              "      <th>token</th>\n",
              "      <th>ftindex</th>\n",
              "    </tr>\n",
              "  </thead>\n",
              "  <tbody>\n",
              "    <tr>\n",
              "      <th>0</th>\n",
              "      <td>.</td>\n",
              "      <td>0</td>\n",
              "    </tr>\n",
              "    <tr>\n",
              "      <th>1</th>\n",
              "      <td>,</td>\n",
              "      <td>1</td>\n",
              "    </tr>\n",
              "    <tr>\n",
              "      <th>2</th>\n",
              "      <td>1</td>\n",
              "      <td>2</td>\n",
              "    </tr>\n",
              "    <tr>\n",
              "      <th>3</th>\n",
              "      <td>the</td>\n",
              "      <td>3</td>\n",
              "    </tr>\n",
              "    <tr>\n",
              "      <th>4</th>\n",
              "      <td>0</td>\n",
              "      <td>4</td>\n",
              "    </tr>\n",
              "    <tr>\n",
              "      <th>...</th>\n",
              "      <td>...</td>\n",
              "      <td>...</td>\n",
              "    </tr>\n",
              "    <tr>\n",
              "      <th>6772</th>\n",
              "      <td>오</td>\n",
              "      <td>6772</td>\n",
              "    </tr>\n",
              "    <tr>\n",
              "      <th>6773</th>\n",
              "      <td>xture</td>\n",
              "      <td>6773</td>\n",
              "    </tr>\n",
              "    <tr>\n",
              "      <th>6774</th>\n",
              "      <td>imen</td>\n",
              "      <td>6774</td>\n",
              "    </tr>\n",
              "    <tr>\n",
              "      <th>6775</th>\n",
              "      <td>Қ</td>\n",
              "      <td>6775</td>\n",
              "    </tr>\n",
              "    <tr>\n",
              "      <th>6776</th>\n",
              "      <td>kor</td>\n",
              "      <td>6776</td>\n",
              "    </tr>\n",
              "  </tbody>\n",
              "</table>\n",
              "<p>6777 rows × 2 columns</p>\n",
              "</div>\n",
              "      <button class=\"colab-df-convert\" onclick=\"convertToInteractive('df-ca226b82-42af-4ee6-988d-c219d161df2c')\"\n",
              "              title=\"Convert this dataframe to an interactive table.\"\n",
              "              style=\"display:none;\">\n",
              "        \n",
              "  <svg xmlns=\"http://www.w3.org/2000/svg\" height=\"24px\"viewBox=\"0 0 24 24\"\n",
              "       width=\"24px\">\n",
              "    <path d=\"M0 0h24v24H0V0z\" fill=\"none\"/>\n",
              "    <path d=\"M18.56 5.44l.94 2.06.94-2.06 2.06-.94-2.06-.94-.94-2.06-.94 2.06-2.06.94zm-11 1L8.5 8.5l.94-2.06 2.06-.94-2.06-.94L8.5 2.5l-.94 2.06-2.06.94zm10 10l.94 2.06.94-2.06 2.06-.94-2.06-.94-.94-2.06-.94 2.06-2.06.94z\"/><path d=\"M17.41 7.96l-1.37-1.37c-.4-.4-.92-.59-1.43-.59-.52 0-1.04.2-1.43.59L10.3 9.45l-7.72 7.72c-.78.78-.78 2.05 0 2.83L4 21.41c.39.39.9.59 1.41.59.51 0 1.02-.2 1.41-.59l7.78-7.78 2.81-2.81c.8-.78.8-2.07 0-2.86zM5.41 20L4 18.59l7.72-7.72 1.47 1.35L5.41 20z\"/>\n",
              "  </svg>\n",
              "      </button>\n",
              "      \n",
              "  <style>\n",
              "    .colab-df-container {\n",
              "      display:flex;\n",
              "      flex-wrap:wrap;\n",
              "      gap: 12px;\n",
              "    }\n",
              "\n",
              "    .colab-df-convert {\n",
              "      background-color: #E8F0FE;\n",
              "      border: none;\n",
              "      border-radius: 50%;\n",
              "      cursor: pointer;\n",
              "      display: none;\n",
              "      fill: #1967D2;\n",
              "      height: 32px;\n",
              "      padding: 0 0 0 0;\n",
              "      width: 32px;\n",
              "    }\n",
              "\n",
              "    .colab-df-convert:hover {\n",
              "      background-color: #E2EBFA;\n",
              "      box-shadow: 0px 1px 2px rgba(60, 64, 67, 0.3), 0px 1px 3px 1px rgba(60, 64, 67, 0.15);\n",
              "      fill: #174EA6;\n",
              "    }\n",
              "\n",
              "    [theme=dark] .colab-df-convert {\n",
              "      background-color: #3B4455;\n",
              "      fill: #D2E3FC;\n",
              "    }\n",
              "\n",
              "    [theme=dark] .colab-df-convert:hover {\n",
              "      background-color: #434B5C;\n",
              "      box-shadow: 0px 1px 3px 1px rgba(0, 0, 0, 0.15);\n",
              "      filter: drop-shadow(0px 1px 2px rgba(0, 0, 0, 0.3));\n",
              "      fill: #FFFFFF;\n",
              "    }\n",
              "  </style>\n",
              "\n",
              "      <script>\n",
              "        const buttonEl =\n",
              "          document.querySelector('#df-ca226b82-42af-4ee6-988d-c219d161df2c button.colab-df-convert');\n",
              "        buttonEl.style.display =\n",
              "          google.colab.kernel.accessAllowed ? 'block' : 'none';\n",
              "\n",
              "        async function convertToInteractive(key) {\n",
              "          const element = document.querySelector('#df-ca226b82-42af-4ee6-988d-c219d161df2c');\n",
              "          const dataTable =\n",
              "            await google.colab.kernel.invokeFunction('convertToInteractive',\n",
              "                                                     [key], {});\n",
              "          if (!dataTable) return;\n",
              "\n",
              "          const docLinkHtml = 'Like what you see? Visit the ' +\n",
              "            '<a target=\"_blank\" href=https://colab.research.google.com/notebooks/data_table.ipynb>data table notebook</a>'\n",
              "            + ' to learn more about interactive tables.';\n",
              "          element.innerHTML = '';\n",
              "          dataTable['output_type'] = 'display_data';\n",
              "          await google.colab.output.renderOutput(dataTable, element);\n",
              "          const docLink = document.createElement('div');\n",
              "          docLink.innerHTML = docLinkHtml;\n",
              "          element.appendChild(docLink);\n",
              "        }\n",
              "      </script>\n",
              "    </div>\n",
              "  </div>\n",
              "  "
            ]
          },
          "metadata": {},
          "execution_count": 4
        }
      ]
    },
    {
      "cell_type": "code",
      "source": [
        "import pandas as pd\n",
        "llama_vocab = pd.read_csv('/content/drive/MyDrive/DataSet/vocab7b.csv')\n",
        "llama_vocab.rename(columns = {'Unnamed: 0':'llamaids'}, inplace = True)"
      ],
      "metadata": {
        "id": "3E_8GQh_Bfsl"
      },
      "execution_count": 5,
      "outputs": []
    },
    {
      "cell_type": "code",
      "source": [
        "def remve_under(token):\n",
        "\n",
        "    cleantokne = str(token).replace('_','')\n",
        "\n",
        "    return cleantokne\n",
        "\n",
        "#sample['tokenizer'] = sample['token'].apply(tokne2tokenize)\n",
        "llama_vocab['token'] = llama_vocab['token'].apply(remve_under)\n",
        "llama_vocab"
      ],
      "metadata": {
        "colab": {
          "base_uri": "https://localhost:8080/",
          "height": 423
        },
        "id": "00dey7DvYisa",
        "outputId": "6b7983cb-198c-45f4-ee93-46d9dfeaad61"
      },
      "execution_count": 6,
      "outputs": [
        {
          "output_type": "execute_result",
          "data": {
            "text/plain": [
              "       llamaids   token\n",
              "0             0   <unk>\n",
              "1             1     <s>\n",
              "2             2    </s>\n",
              "3             3  <0x00>\n",
              "4             4  <0x01>\n",
              "...         ...     ...\n",
              "31995     31995       黃\n",
              "31996     31996       왕\n",
              "31997     31997       收\n",
              "31998     31998       弘\n",
              "31999     31999       给\n",
              "\n",
              "[32000 rows x 2 columns]"
            ],
            "text/html": [
              "\n",
              "  <div id=\"df-f4720ab0-bf9a-4fa3-9504-8a1397917051\">\n",
              "    <div class=\"colab-df-container\">\n",
              "      <div>\n",
              "<style scoped>\n",
              "    .dataframe tbody tr th:only-of-type {\n",
              "        vertical-align: middle;\n",
              "    }\n",
              "\n",
              "    .dataframe tbody tr th {\n",
              "        vertical-align: top;\n",
              "    }\n",
              "\n",
              "    .dataframe thead th {\n",
              "        text-align: right;\n",
              "    }\n",
              "</style>\n",
              "<table border=\"1\" class=\"dataframe\">\n",
              "  <thead>\n",
              "    <tr style=\"text-align: right;\">\n",
              "      <th></th>\n",
              "      <th>llamaids</th>\n",
              "      <th>token</th>\n",
              "    </tr>\n",
              "  </thead>\n",
              "  <tbody>\n",
              "    <tr>\n",
              "      <th>0</th>\n",
              "      <td>0</td>\n",
              "      <td>&lt;unk&gt;</td>\n",
              "    </tr>\n",
              "    <tr>\n",
              "      <th>1</th>\n",
              "      <td>1</td>\n",
              "      <td>&lt;s&gt;</td>\n",
              "    </tr>\n",
              "    <tr>\n",
              "      <th>2</th>\n",
              "      <td>2</td>\n",
              "      <td>&lt;/s&gt;</td>\n",
              "    </tr>\n",
              "    <tr>\n",
              "      <th>3</th>\n",
              "      <td>3</td>\n",
              "      <td>&lt;0x00&gt;</td>\n",
              "    </tr>\n",
              "    <tr>\n",
              "      <th>4</th>\n",
              "      <td>4</td>\n",
              "      <td>&lt;0x01&gt;</td>\n",
              "    </tr>\n",
              "    <tr>\n",
              "      <th>...</th>\n",
              "      <td>...</td>\n",
              "      <td>...</td>\n",
              "    </tr>\n",
              "    <tr>\n",
              "      <th>31995</th>\n",
              "      <td>31995</td>\n",
              "      <td>黃</td>\n",
              "    </tr>\n",
              "    <tr>\n",
              "      <th>31996</th>\n",
              "      <td>31996</td>\n",
              "      <td>왕</td>\n",
              "    </tr>\n",
              "    <tr>\n",
              "      <th>31997</th>\n",
              "      <td>31997</td>\n",
              "      <td>收</td>\n",
              "    </tr>\n",
              "    <tr>\n",
              "      <th>31998</th>\n",
              "      <td>31998</td>\n",
              "      <td>弘</td>\n",
              "    </tr>\n",
              "    <tr>\n",
              "      <th>31999</th>\n",
              "      <td>31999</td>\n",
              "      <td>给</td>\n",
              "    </tr>\n",
              "  </tbody>\n",
              "</table>\n",
              "<p>32000 rows × 2 columns</p>\n",
              "</div>\n",
              "      <button class=\"colab-df-convert\" onclick=\"convertToInteractive('df-f4720ab0-bf9a-4fa3-9504-8a1397917051')\"\n",
              "              title=\"Convert this dataframe to an interactive table.\"\n",
              "              style=\"display:none;\">\n",
              "        \n",
              "  <svg xmlns=\"http://www.w3.org/2000/svg\" height=\"24px\"viewBox=\"0 0 24 24\"\n",
              "       width=\"24px\">\n",
              "    <path d=\"M0 0h24v24H0V0z\" fill=\"none\"/>\n",
              "    <path d=\"M18.56 5.44l.94 2.06.94-2.06 2.06-.94-2.06-.94-.94-2.06-.94 2.06-2.06.94zm-11 1L8.5 8.5l.94-2.06 2.06-.94-2.06-.94L8.5 2.5l-.94 2.06-2.06.94zm10 10l.94 2.06.94-2.06 2.06-.94-2.06-.94-.94-2.06-.94 2.06-2.06.94z\"/><path d=\"M17.41 7.96l-1.37-1.37c-.4-.4-.92-.59-1.43-.59-.52 0-1.04.2-1.43.59L10.3 9.45l-7.72 7.72c-.78.78-.78 2.05 0 2.83L4 21.41c.39.39.9.59 1.41.59.51 0 1.02-.2 1.41-.59l7.78-7.78 2.81-2.81c.8-.78.8-2.07 0-2.86zM5.41 20L4 18.59l7.72-7.72 1.47 1.35L5.41 20z\"/>\n",
              "  </svg>\n",
              "      </button>\n",
              "      \n",
              "  <style>\n",
              "    .colab-df-container {\n",
              "      display:flex;\n",
              "      flex-wrap:wrap;\n",
              "      gap: 12px;\n",
              "    }\n",
              "\n",
              "    .colab-df-convert {\n",
              "      background-color: #E8F0FE;\n",
              "      border: none;\n",
              "      border-radius: 50%;\n",
              "      cursor: pointer;\n",
              "      display: none;\n",
              "      fill: #1967D2;\n",
              "      height: 32px;\n",
              "      padding: 0 0 0 0;\n",
              "      width: 32px;\n",
              "    }\n",
              "\n",
              "    .colab-df-convert:hover {\n",
              "      background-color: #E2EBFA;\n",
              "      box-shadow: 0px 1px 2px rgba(60, 64, 67, 0.3), 0px 1px 3px 1px rgba(60, 64, 67, 0.15);\n",
              "      fill: #174EA6;\n",
              "    }\n",
              "\n",
              "    [theme=dark] .colab-df-convert {\n",
              "      background-color: #3B4455;\n",
              "      fill: #D2E3FC;\n",
              "    }\n",
              "\n",
              "    [theme=dark] .colab-df-convert:hover {\n",
              "      background-color: #434B5C;\n",
              "      box-shadow: 0px 1px 3px 1px rgba(0, 0, 0, 0.15);\n",
              "      filter: drop-shadow(0px 1px 2px rgba(0, 0, 0, 0.3));\n",
              "      fill: #FFFFFF;\n",
              "    }\n",
              "  </style>\n",
              "\n",
              "      <script>\n",
              "        const buttonEl =\n",
              "          document.querySelector('#df-f4720ab0-bf9a-4fa3-9504-8a1397917051 button.colab-df-convert');\n",
              "        buttonEl.style.display =\n",
              "          google.colab.kernel.accessAllowed ? 'block' : 'none';\n",
              "\n",
              "        async function convertToInteractive(key) {\n",
              "          const element = document.querySelector('#df-f4720ab0-bf9a-4fa3-9504-8a1397917051');\n",
              "          const dataTable =\n",
              "            await google.colab.kernel.invokeFunction('convertToInteractive',\n",
              "                                                     [key], {});\n",
              "          if (!dataTable) return;\n",
              "\n",
              "          const docLinkHtml = 'Like what you see? Visit the ' +\n",
              "            '<a target=\"_blank\" href=https://colab.research.google.com/notebooks/data_table.ipynb>data table notebook</a>'\n",
              "            + ' to learn more about interactive tables.';\n",
              "          element.innerHTML = '';\n",
              "          dataTable['output_type'] = 'display_data';\n",
              "          await google.colab.output.renderOutput(dataTable, element);\n",
              "          const docLink = document.createElement('div');\n",
              "          docLink.innerHTML = docLinkHtml;\n",
              "          element.appendChild(docLink);\n",
              "        }\n",
              "      </script>\n",
              "    </div>\n",
              "  </div>\n",
              "  "
            ]
          },
          "metadata": {},
          "execution_count": 6
        }
      ]
    },
    {
      "cell_type": "code",
      "source": [
        "llama_vocab"
      ],
      "metadata": {
        "id": "Z-Uw3KYBYRBD"
      },
      "execution_count": null,
      "outputs": []
    },
    {
      "cell_type": "code",
      "source": [
        "vocab_my_merge = pd.merge(llama_vocab,words_df, how='inner', on='token')\n",
        "vocab_my_merge = vocab_my_merge[['llamaids','ftindex','token']]\n",
        "vocab_my_merge"
      ],
      "metadata": {
        "colab": {
          "base_uri": "https://localhost:8080/",
          "height": 423
        },
        "id": "COefUIkuBln6",
        "outputId": "adfbae43-36ea-436c-8297-13293f51d577"
      },
      "execution_count": 7,
      "outputs": [
        {
          "output_type": "execute_result",
          "data": {
            "text/plain": [
              "      llamaids  ftindex   token\n",
              "0          131     3292  <0x80>\n",
              "1          132     3945  <0x81>\n",
              "2          133     4957  <0x82>\n",
              "3          134     5499  <0x83>\n",
              "4          135     3787  <0x84>\n",
              "...        ...      ...     ...\n",
              "6806     31764     6311       ɫ\n",
              "6807     31774     2993       강\n",
              "6808     31797     6402       ữ\n",
              "6809     31940     6730       내\n",
              "6810     31972     6390       교\n",
              "\n",
              "[6811 rows x 3 columns]"
            ],
            "text/html": [
              "\n",
              "  <div id=\"df-a9a8ded9-80c7-47b7-b9ec-10f425a58adf\">\n",
              "    <div class=\"colab-df-container\">\n",
              "      <div>\n",
              "<style scoped>\n",
              "    .dataframe tbody tr th:only-of-type {\n",
              "        vertical-align: middle;\n",
              "    }\n",
              "\n",
              "    .dataframe tbody tr th {\n",
              "        vertical-align: top;\n",
              "    }\n",
              "\n",
              "    .dataframe thead th {\n",
              "        text-align: right;\n",
              "    }\n",
              "</style>\n",
              "<table border=\"1\" class=\"dataframe\">\n",
              "  <thead>\n",
              "    <tr style=\"text-align: right;\">\n",
              "      <th></th>\n",
              "      <th>llamaids</th>\n",
              "      <th>ftindex</th>\n",
              "      <th>token</th>\n",
              "    </tr>\n",
              "  </thead>\n",
              "  <tbody>\n",
              "    <tr>\n",
              "      <th>0</th>\n",
              "      <td>131</td>\n",
              "      <td>3292</td>\n",
              "      <td>&lt;0x80&gt;</td>\n",
              "    </tr>\n",
              "    <tr>\n",
              "      <th>1</th>\n",
              "      <td>132</td>\n",
              "      <td>3945</td>\n",
              "      <td>&lt;0x81&gt;</td>\n",
              "    </tr>\n",
              "    <tr>\n",
              "      <th>2</th>\n",
              "      <td>133</td>\n",
              "      <td>4957</td>\n",
              "      <td>&lt;0x82&gt;</td>\n",
              "    </tr>\n",
              "    <tr>\n",
              "      <th>3</th>\n",
              "      <td>134</td>\n",
              "      <td>5499</td>\n",
              "      <td>&lt;0x83&gt;</td>\n",
              "    </tr>\n",
              "    <tr>\n",
              "      <th>4</th>\n",
              "      <td>135</td>\n",
              "      <td>3787</td>\n",
              "      <td>&lt;0x84&gt;</td>\n",
              "    </tr>\n",
              "    <tr>\n",
              "      <th>...</th>\n",
              "      <td>...</td>\n",
              "      <td>...</td>\n",
              "      <td>...</td>\n",
              "    </tr>\n",
              "    <tr>\n",
              "      <th>6806</th>\n",
              "      <td>31764</td>\n",
              "      <td>6311</td>\n",
              "      <td>ɫ</td>\n",
              "    </tr>\n",
              "    <tr>\n",
              "      <th>6807</th>\n",
              "      <td>31774</td>\n",
              "      <td>2993</td>\n",
              "      <td>강</td>\n",
              "    </tr>\n",
              "    <tr>\n",
              "      <th>6808</th>\n",
              "      <td>31797</td>\n",
              "      <td>6402</td>\n",
              "      <td>ữ</td>\n",
              "    </tr>\n",
              "    <tr>\n",
              "      <th>6809</th>\n",
              "      <td>31940</td>\n",
              "      <td>6730</td>\n",
              "      <td>내</td>\n",
              "    </tr>\n",
              "    <tr>\n",
              "      <th>6810</th>\n",
              "      <td>31972</td>\n",
              "      <td>6390</td>\n",
              "      <td>교</td>\n",
              "    </tr>\n",
              "  </tbody>\n",
              "</table>\n",
              "<p>6811 rows × 3 columns</p>\n",
              "</div>\n",
              "      <button class=\"colab-df-convert\" onclick=\"convertToInteractive('df-a9a8ded9-80c7-47b7-b9ec-10f425a58adf')\"\n",
              "              title=\"Convert this dataframe to an interactive table.\"\n",
              "              style=\"display:none;\">\n",
              "        \n",
              "  <svg xmlns=\"http://www.w3.org/2000/svg\" height=\"24px\"viewBox=\"0 0 24 24\"\n",
              "       width=\"24px\">\n",
              "    <path d=\"M0 0h24v24H0V0z\" fill=\"none\"/>\n",
              "    <path d=\"M18.56 5.44l.94 2.06.94-2.06 2.06-.94-2.06-.94-.94-2.06-.94 2.06-2.06.94zm-11 1L8.5 8.5l.94-2.06 2.06-.94-2.06-.94L8.5 2.5l-.94 2.06-2.06.94zm10 10l.94 2.06.94-2.06 2.06-.94-2.06-.94-.94-2.06-.94 2.06-2.06.94z\"/><path d=\"M17.41 7.96l-1.37-1.37c-.4-.4-.92-.59-1.43-.59-.52 0-1.04.2-1.43.59L10.3 9.45l-7.72 7.72c-.78.78-.78 2.05 0 2.83L4 21.41c.39.39.9.59 1.41.59.51 0 1.02-.2 1.41-.59l7.78-7.78 2.81-2.81c.8-.78.8-2.07 0-2.86zM5.41 20L4 18.59l7.72-7.72 1.47 1.35L5.41 20z\"/>\n",
              "  </svg>\n",
              "      </button>\n",
              "      \n",
              "  <style>\n",
              "    .colab-df-container {\n",
              "      display:flex;\n",
              "      flex-wrap:wrap;\n",
              "      gap: 12px;\n",
              "    }\n",
              "\n",
              "    .colab-df-convert {\n",
              "      background-color: #E8F0FE;\n",
              "      border: none;\n",
              "      border-radius: 50%;\n",
              "      cursor: pointer;\n",
              "      display: none;\n",
              "      fill: #1967D2;\n",
              "      height: 32px;\n",
              "      padding: 0 0 0 0;\n",
              "      width: 32px;\n",
              "    }\n",
              "\n",
              "    .colab-df-convert:hover {\n",
              "      background-color: #E2EBFA;\n",
              "      box-shadow: 0px 1px 2px rgba(60, 64, 67, 0.3), 0px 1px 3px 1px rgba(60, 64, 67, 0.15);\n",
              "      fill: #174EA6;\n",
              "    }\n",
              "\n",
              "    [theme=dark] .colab-df-convert {\n",
              "      background-color: #3B4455;\n",
              "      fill: #D2E3FC;\n",
              "    }\n",
              "\n",
              "    [theme=dark] .colab-df-convert:hover {\n",
              "      background-color: #434B5C;\n",
              "      box-shadow: 0px 1px 3px 1px rgba(0, 0, 0, 0.15);\n",
              "      filter: drop-shadow(0px 1px 2px rgba(0, 0, 0, 0.3));\n",
              "      fill: #FFFFFF;\n",
              "    }\n",
              "  </style>\n",
              "\n",
              "      <script>\n",
              "        const buttonEl =\n",
              "          document.querySelector('#df-a9a8ded9-80c7-47b7-b9ec-10f425a58adf button.colab-df-convert');\n",
              "        buttonEl.style.display =\n",
              "          google.colab.kernel.accessAllowed ? 'block' : 'none';\n",
              "\n",
              "        async function convertToInteractive(key) {\n",
              "          const element = document.querySelector('#df-a9a8ded9-80c7-47b7-b9ec-10f425a58adf');\n",
              "          const dataTable =\n",
              "            await google.colab.kernel.invokeFunction('convertToInteractive',\n",
              "                                                     [key], {});\n",
              "          if (!dataTable) return;\n",
              "\n",
              "          const docLinkHtml = 'Like what you see? Visit the ' +\n",
              "            '<a target=\"_blank\" href=https://colab.research.google.com/notebooks/data_table.ipynb>data table notebook</a>'\n",
              "            + ' to learn more about interactive tables.';\n",
              "          element.innerHTML = '';\n",
              "          dataTable['output_type'] = 'display_data';\n",
              "          await google.colab.output.renderOutput(dataTable, element);\n",
              "          const docLink = document.createElement('div');\n",
              "          docLink.innerHTML = docLinkHtml;\n",
              "          element.appendChild(docLink);\n",
              "        }\n",
              "      </script>\n",
              "    </div>\n",
              "  </div>\n",
              "  "
            ]
          },
          "metadata": {},
          "execution_count": 7
        }
      ]
    },
    {
      "cell_type": "code",
      "source": [
        "vocab_my_merge.to_excel('mymergewithllama.xlsx')"
      ],
      "metadata": {
        "id": "6gcsKqZYCCzE"
      },
      "execution_count": 8,
      "outputs": []
    },
    {
      "cell_type": "code",
      "source": [
        "import torch\n",
        "llamaemmbding = torch.load('/content/drive/MyDrive/DataSet/embeding_tensor_7b_llama.pt')"
      ],
      "metadata": {
        "id": "DL6CSnFjh5l-"
      },
      "execution_count": 9,
      "outputs": []
    },
    {
      "cell_type": "code",
      "source": [
        "import numpy as np\n",
        "\n",
        "def tokne2fasttext(token):\n",
        "    ids = model.get_word_id(token)\n",
        "    if ids>= 0 :\n",
        "        fasttextID = ids\n",
        "        fasttextEMBD= model.get_input_vector(ids)\n",
        "        done = 'direct'\n",
        "    else:\n",
        "        ctoken = token.replace('▁','')\n",
        "        ids = model.get_word_id(ctoken)\n",
        "        if ids>= 0 :\n",
        "            fasttextID = ids\n",
        "            fasttextEMBD= model.get_input_vector(ids)\n",
        "            done = 'rm_'\n",
        "        else:\n",
        "            fasttextID = ids\n",
        "            fasttextEMBD= model[token]\n",
        "            done = 'NotAvlbe'\n",
        "    return fasttextID , fasttextEMBD , done\n",
        "\n",
        "def tokne2llamaEMBD(llamaids):\n",
        "    llamaEMBD= llamaemmbding[llamaids].detach().numpy()\n",
        "    return   llamaEMBD\n",
        "\n",
        "\n",
        "\n",
        "vocab_my_merge[ 'llamaEMBD'] = vocab_my_merge['llamaids'].apply(tokne2llamaEMBD)\n",
        "\n",
        "#vocab_en_merge[ 'fasttextEMBD'] = vocab_en_merge['ftindex'].apply(tokne2fasttextEMBD)\n",
        "vocab_my_merge[['fasttextIDs','fasttextEMBD', 'ftdone']] = vocab_my_merge['token'].apply(tokne2fasttext).apply(pd.Series)\n",
        "vocab_my_merge"
      ],
      "metadata": {
        "colab": {
          "base_uri": "https://localhost:8080/",
          "height": 1000
        },
        "id": "pLwUgy0SiBza",
        "outputId": "31bca692-7fbd-4dfc-9209-c6c6e963ed92"
      },
      "execution_count": 10,
      "outputs": [
        {
          "output_type": "execute_result",
          "data": {
            "text/plain": [
              "      llamaids  ftindex   token  \\\n",
              "0          131     3292  <0x80>   \n",
              "1          132     3945  <0x81>   \n",
              "2          133     4957  <0x82>   \n",
              "3          134     5499  <0x83>   \n",
              "4          135     3787  <0x84>   \n",
              "...        ...      ...     ...   \n",
              "6806     31764     6311       ɫ   \n",
              "6807     31774     2993       강   \n",
              "6808     31797     6402       ữ   \n",
              "6809     31940     6730       내   \n",
              "6810     31972     6390       교   \n",
              "\n",
              "                                              llamaEMBD  fasttextIDs  \\\n",
              "0     [0.03186, -0.006954, 0.0002095, 0.01637, -0.03...         3292   \n",
              "1     [-0.04773, -0.013245, 0.01613, -0.0408, 0.0012...         3945   \n",
              "2     [-0.03427, -0.03317, 0.010025, 0.0259, -0.0402...         4957   \n",
              "3     [-0.003319, -0.046, 0.05008, 0.001102, 0.02438...         5499   \n",
              "4     [-0.01136, -0.01348, 0.02917, -0.02051, -0.041...         3787   \n",
              "...                                                 ...          ...   \n",
              "6806  [0.015114, -0.01897, 0.001937, -0.002653, -0.0...         6311   \n",
              "6807  [0.00871, -0.02776, -0.0045, -0.00292, 0.00566...         2993   \n",
              "6808  [-0.0228, 0.007797, 0.001909, 0.01508, -0.0085...         6402   \n",
              "6809  [-0.03458, -0.01165, 0.017, -0.0177, 0.0371, -...         6730   \n",
              "6810  [-0.00648, 0.006573, 0.00534, 0.01842, 0.03387...         6390   \n",
              "\n",
              "                                           fasttextEMBD  ftdone  \n",
              "0     [0.011649349, 0.015273062, -0.0074721617, -0.0...  direct  \n",
              "1     [-0.022309244, 0.012107835, 0.007314005, 0.004...  direct  \n",
              "2     [-0.0042778826, 0.0010679914, 0.000117177304, ...  direct  \n",
              "3     [0.0033546304, -0.008791739, -0.004608774, 0.0...  direct  \n",
              "4     [-0.010090494, -0.02165715, -0.004360972, 0.01...  direct  \n",
              "...                                                 ...     ...  \n",
              "6806  [-0.06185022, -0.03138776, 0.020322416, -0.046...  direct  \n",
              "6807  [-0.055514373, -0.037218902, 0.026422562, -0.0...  direct  \n",
              "6808  [0.0059084026, 0.0026131659, -0.046447434, -0....  direct  \n",
              "6809  [-0.030507058, -0.01541425, -0.008100231, -0.0...  direct  \n",
              "6810  [-0.03748243, -0.018420096, -0.011315241, -0.0...  direct  \n",
              "\n",
              "[6811 rows x 7 columns]"
            ],
            "text/html": [
              "\n",
              "  <div id=\"df-6671a93f-b336-47b5-a387-bf70d77f6388\">\n",
              "    <div class=\"colab-df-container\">\n",
              "      <div>\n",
              "<style scoped>\n",
              "    .dataframe tbody tr th:only-of-type {\n",
              "        vertical-align: middle;\n",
              "    }\n",
              "\n",
              "    .dataframe tbody tr th {\n",
              "        vertical-align: top;\n",
              "    }\n",
              "\n",
              "    .dataframe thead th {\n",
              "        text-align: right;\n",
              "    }\n",
              "</style>\n",
              "<table border=\"1\" class=\"dataframe\">\n",
              "  <thead>\n",
              "    <tr style=\"text-align: right;\">\n",
              "      <th></th>\n",
              "      <th>llamaids</th>\n",
              "      <th>ftindex</th>\n",
              "      <th>token</th>\n",
              "      <th>llamaEMBD</th>\n",
              "      <th>fasttextIDs</th>\n",
              "      <th>fasttextEMBD</th>\n",
              "      <th>ftdone</th>\n",
              "    </tr>\n",
              "  </thead>\n",
              "  <tbody>\n",
              "    <tr>\n",
              "      <th>0</th>\n",
              "      <td>131</td>\n",
              "      <td>3292</td>\n",
              "      <td>&lt;0x80&gt;</td>\n",
              "      <td>[0.03186, -0.006954, 0.0002095, 0.01637, -0.03...</td>\n",
              "      <td>3292</td>\n",
              "      <td>[0.011649349, 0.015273062, -0.0074721617, -0.0...</td>\n",
              "      <td>direct</td>\n",
              "    </tr>\n",
              "    <tr>\n",
              "      <th>1</th>\n",
              "      <td>132</td>\n",
              "      <td>3945</td>\n",
              "      <td>&lt;0x81&gt;</td>\n",
              "      <td>[-0.04773, -0.013245, 0.01613, -0.0408, 0.0012...</td>\n",
              "      <td>3945</td>\n",
              "      <td>[-0.022309244, 0.012107835, 0.007314005, 0.004...</td>\n",
              "      <td>direct</td>\n",
              "    </tr>\n",
              "    <tr>\n",
              "      <th>2</th>\n",
              "      <td>133</td>\n",
              "      <td>4957</td>\n",
              "      <td>&lt;0x82&gt;</td>\n",
              "      <td>[-0.03427, -0.03317, 0.010025, 0.0259, -0.0402...</td>\n",
              "      <td>4957</td>\n",
              "      <td>[-0.0042778826, 0.0010679914, 0.000117177304, ...</td>\n",
              "      <td>direct</td>\n",
              "    </tr>\n",
              "    <tr>\n",
              "      <th>3</th>\n",
              "      <td>134</td>\n",
              "      <td>5499</td>\n",
              "      <td>&lt;0x83&gt;</td>\n",
              "      <td>[-0.003319, -0.046, 0.05008, 0.001102, 0.02438...</td>\n",
              "      <td>5499</td>\n",
              "      <td>[0.0033546304, -0.008791739, -0.004608774, 0.0...</td>\n",
              "      <td>direct</td>\n",
              "    </tr>\n",
              "    <tr>\n",
              "      <th>4</th>\n",
              "      <td>135</td>\n",
              "      <td>3787</td>\n",
              "      <td>&lt;0x84&gt;</td>\n",
              "      <td>[-0.01136, -0.01348, 0.02917, -0.02051, -0.041...</td>\n",
              "      <td>3787</td>\n",
              "      <td>[-0.010090494, -0.02165715, -0.004360972, 0.01...</td>\n",
              "      <td>direct</td>\n",
              "    </tr>\n",
              "    <tr>\n",
              "      <th>...</th>\n",
              "      <td>...</td>\n",
              "      <td>...</td>\n",
              "      <td>...</td>\n",
              "      <td>...</td>\n",
              "      <td>...</td>\n",
              "      <td>...</td>\n",
              "      <td>...</td>\n",
              "    </tr>\n",
              "    <tr>\n",
              "      <th>6806</th>\n",
              "      <td>31764</td>\n",
              "      <td>6311</td>\n",
              "      <td>ɫ</td>\n",
              "      <td>[0.015114, -0.01897, 0.001937, -0.002653, -0.0...</td>\n",
              "      <td>6311</td>\n",
              "      <td>[-0.06185022, -0.03138776, 0.020322416, -0.046...</td>\n",
              "      <td>direct</td>\n",
              "    </tr>\n",
              "    <tr>\n",
              "      <th>6807</th>\n",
              "      <td>31774</td>\n",
              "      <td>2993</td>\n",
              "      <td>강</td>\n",
              "      <td>[0.00871, -0.02776, -0.0045, -0.00292, 0.00566...</td>\n",
              "      <td>2993</td>\n",
              "      <td>[-0.055514373, -0.037218902, 0.026422562, -0.0...</td>\n",
              "      <td>direct</td>\n",
              "    </tr>\n",
              "    <tr>\n",
              "      <th>6808</th>\n",
              "      <td>31797</td>\n",
              "      <td>6402</td>\n",
              "      <td>ữ</td>\n",
              "      <td>[-0.0228, 0.007797, 0.001909, 0.01508, -0.0085...</td>\n",
              "      <td>6402</td>\n",
              "      <td>[0.0059084026, 0.0026131659, -0.046447434, -0....</td>\n",
              "      <td>direct</td>\n",
              "    </tr>\n",
              "    <tr>\n",
              "      <th>6809</th>\n",
              "      <td>31940</td>\n",
              "      <td>6730</td>\n",
              "      <td>내</td>\n",
              "      <td>[-0.03458, -0.01165, 0.017, -0.0177, 0.0371, -...</td>\n",
              "      <td>6730</td>\n",
              "      <td>[-0.030507058, -0.01541425, -0.008100231, -0.0...</td>\n",
              "      <td>direct</td>\n",
              "    </tr>\n",
              "    <tr>\n",
              "      <th>6810</th>\n",
              "      <td>31972</td>\n",
              "      <td>6390</td>\n",
              "      <td>교</td>\n",
              "      <td>[-0.00648, 0.006573, 0.00534, 0.01842, 0.03387...</td>\n",
              "      <td>6390</td>\n",
              "      <td>[-0.03748243, -0.018420096, -0.011315241, -0.0...</td>\n",
              "      <td>direct</td>\n",
              "    </tr>\n",
              "  </tbody>\n",
              "</table>\n",
              "<p>6811 rows × 7 columns</p>\n",
              "</div>\n",
              "      <button class=\"colab-df-convert\" onclick=\"convertToInteractive('df-6671a93f-b336-47b5-a387-bf70d77f6388')\"\n",
              "              title=\"Convert this dataframe to an interactive table.\"\n",
              "              style=\"display:none;\">\n",
              "        \n",
              "  <svg xmlns=\"http://www.w3.org/2000/svg\" height=\"24px\"viewBox=\"0 0 24 24\"\n",
              "       width=\"24px\">\n",
              "    <path d=\"M0 0h24v24H0V0z\" fill=\"none\"/>\n",
              "    <path d=\"M18.56 5.44l.94 2.06.94-2.06 2.06-.94-2.06-.94-.94-2.06-.94 2.06-2.06.94zm-11 1L8.5 8.5l.94-2.06 2.06-.94-2.06-.94L8.5 2.5l-.94 2.06-2.06.94zm10 10l.94 2.06.94-2.06 2.06-.94-2.06-.94-.94-2.06-.94 2.06-2.06.94z\"/><path d=\"M17.41 7.96l-1.37-1.37c-.4-.4-.92-.59-1.43-.59-.52 0-1.04.2-1.43.59L10.3 9.45l-7.72 7.72c-.78.78-.78 2.05 0 2.83L4 21.41c.39.39.9.59 1.41.59.51 0 1.02-.2 1.41-.59l7.78-7.78 2.81-2.81c.8-.78.8-2.07 0-2.86zM5.41 20L4 18.59l7.72-7.72 1.47 1.35L5.41 20z\"/>\n",
              "  </svg>\n",
              "      </button>\n",
              "      \n",
              "  <style>\n",
              "    .colab-df-container {\n",
              "      display:flex;\n",
              "      flex-wrap:wrap;\n",
              "      gap: 12px;\n",
              "    }\n",
              "\n",
              "    .colab-df-convert {\n",
              "      background-color: #E8F0FE;\n",
              "      border: none;\n",
              "      border-radius: 50%;\n",
              "      cursor: pointer;\n",
              "      display: none;\n",
              "      fill: #1967D2;\n",
              "      height: 32px;\n",
              "      padding: 0 0 0 0;\n",
              "      width: 32px;\n",
              "    }\n",
              "\n",
              "    .colab-df-convert:hover {\n",
              "      background-color: #E2EBFA;\n",
              "      box-shadow: 0px 1px 2px rgba(60, 64, 67, 0.3), 0px 1px 3px 1px rgba(60, 64, 67, 0.15);\n",
              "      fill: #174EA6;\n",
              "    }\n",
              "\n",
              "    [theme=dark] .colab-df-convert {\n",
              "      background-color: #3B4455;\n",
              "      fill: #D2E3FC;\n",
              "    }\n",
              "\n",
              "    [theme=dark] .colab-df-convert:hover {\n",
              "      background-color: #434B5C;\n",
              "      box-shadow: 0px 1px 3px 1px rgba(0, 0, 0, 0.15);\n",
              "      filter: drop-shadow(0px 1px 2px rgba(0, 0, 0, 0.3));\n",
              "      fill: #FFFFFF;\n",
              "    }\n",
              "  </style>\n",
              "\n",
              "      <script>\n",
              "        const buttonEl =\n",
              "          document.querySelector('#df-6671a93f-b336-47b5-a387-bf70d77f6388 button.colab-df-convert');\n",
              "        buttonEl.style.display =\n",
              "          google.colab.kernel.accessAllowed ? 'block' : 'none';\n",
              "\n",
              "        async function convertToInteractive(key) {\n",
              "          const element = document.querySelector('#df-6671a93f-b336-47b5-a387-bf70d77f6388');\n",
              "          const dataTable =\n",
              "            await google.colab.kernel.invokeFunction('convertToInteractive',\n",
              "                                                     [key], {});\n",
              "          if (!dataTable) return;\n",
              "\n",
              "          const docLinkHtml = 'Like what you see? Visit the ' +\n",
              "            '<a target=\"_blank\" href=https://colab.research.google.com/notebooks/data_table.ipynb>data table notebook</a>'\n",
              "            + ' to learn more about interactive tables.';\n",
              "          element.innerHTML = '';\n",
              "          dataTable['output_type'] = 'display_data';\n",
              "          await google.colab.output.renderOutput(dataTable, element);\n",
              "          const docLink = document.createElement('div');\n",
              "          docLink.innerHTML = docLinkHtml;\n",
              "          element.appendChild(docLink);\n",
              "        }\n",
              "      </script>\n",
              "    </div>\n",
              "  </div>\n",
              "  "
            ]
          },
          "metadata": {},
          "execution_count": 10
        }
      ]
    },
    {
      "cell_type": "code",
      "source": [
        "vocab_my_merge.iloc[500]['token']"
      ],
      "metadata": {
        "colab": {
          "base_uri": "https://localhost:8080/",
          "height": 36
        },
        "id": "_IhUxHCYsDY8",
        "outputId": "7a1c61ea-6131-4a50-dae5-f08bcfeda270"
      },
      "execution_count": 7,
      "outputs": [
        {
          "output_type": "execute_result",
          "data": {
            "text/plain": [
              "'ext'"
            ],
            "application/vnd.google.colaboratory.intrinsic+json": {
              "type": "string"
            }
          },
          "metadata": {},
          "execution_count": 7
        }
      ]
    },
    {
      "cell_type": "code",
      "source": [
        "i = 2546\n",
        "print(vocab_my_merge.iloc[i]['token'])\n",
        "w = model.get_nearest_neighbors(vocab_my_merge.iloc[i]['token'])\n",
        "ww = [nn for n,nn in w]\n",
        "print(ww)\n",
        "print(w)\n",
        "llamaEMBD_l ,fasttextEMBD_l = [],[]\n",
        "for ii in ww:\n",
        "  indx=vocab_my_merge[vocab_my_merge['token']==ii].index\n",
        "  llamaEM = vocab_my_merge.iloc[indx]['llamaEMBD']\n",
        "  llamaEMBD_l.append(llamaEM)\n",
        "  fasttextEM = vocab_my_merge.iloc[indx]['fasttextEMBD']\n",
        "  fasttextEMBD_l.append(fasttextEM)\n",
        "\n",
        "print(llamaEMBD_l)\n",
        "print(fasttextEMBD_l)"
      ],
      "metadata": {
        "colab": {
          "base_uri": "https://localhost:8080/"
        },
        "id": "QVKPOpDSrzNH",
        "outputId": "cd8d55a2-0a4b-4588-d126-c5de3731f3ee"
      },
      "execution_count": 11,
      "outputs": [
        {
          "output_type": "stream",
          "name": "stdout",
          "text": [
            "property\n",
            "['properties', 'Properties', 'prop', 'limited', 'limits', 'gravity', 'mediate', 'proof', 'prob', 'drop']\n",
            "[(0.8819065093994141, 'properties'), (0.7656651735305786, 'Properties'), (0.7232706546783447, 'prop'), (0.691635251045227, 'limited'), (0.687454879283905, 'limits'), (0.6833981871604919, 'gravity'), (0.6765086054801941, 'mediate'), (0.6722491383552551, 'proof'), (0.6699507236480713, 'prob'), (0.6641247868537903, 'drop')]\n",
            "[3607    [-0.009834, 0.03958, 0.006504, 0.006252, 0.010...\n",
            "Name: llamaEMBD, dtype: object, 3715    [0.00738, 0.00298, -0.004723, 0.02216, -0.0271...\n",
            "Name: llamaEMBD, dtype: object, 2768    [-0.01417, -0.01405, -0.05426, -0.02243, 0.019...\n",
            "Name: llamaEMBD, dtype: object, 6467    [-0.02402, 0.012215, 0.02562, 0.02313, 0.00473...\n",
            "Name: llamaEMBD, dtype: object, 3852    [-0.01002, 0.01762, -0.00826, 0.03363, -0.0157...\n",
            "Name: llamaEMBD, dtype: object, 5753    [-0.01309, 0.01857, -0.001501, 0.00528, 0.0051...\n",
            "Name: llamaEMBD, dtype: object, 4141    [0.0199, -0.009445, -0.002008, -0.05942, 0.014...\n",
            "Name: llamaEMBD, dtype: object, 2829    [0.01756, -0.009094, -0.0501, 0.02808, 0.02449...\n",
            "Name: llamaEMBD, dtype: object, 5651    [-0.01513, 0.01477, 0.00504, -0.01126, -0.0051...\n",
            "Name: llamaEMBD, dtype: object, 3037    [-0.005894, 0.01145, -0.002764, 0.01762, 0.017...\n",
            "Name: llamaEMBD, dtype: object]\n",
            "[3607    [0.014246525, -0.009658385, 0.0064033903, 0.01...\n",
            "Name: fasttextEMBD, dtype: object, 3715    [0.009540273, -0.0036260954, -0.003449186, 0.0...\n",
            "Name: fasttextEMBD, dtype: object, 2768    [-0.062854104, 0.050320096, 0.06367536, -0.050...\n",
            "Name: fasttextEMBD, dtype: object, 6467    [0.003377694, -0.0028328206, -0.035444338, -0....\n",
            "Name: fasttextEMBD, dtype: object, 3852    [0.010493467, 0.0248172, -0.013078437, -0.0178...\n",
            "Name: fasttextEMBD, dtype: object, 5753    [0.010313447, 0.031774107, -0.020267459, -0.02...\n",
            "Name: fasttextEMBD, dtype: object, 4141    [0.00472056, 0.038667258, 0.0012313054, -0.056...\n",
            "Name: fasttextEMBD, dtype: object, 2829    [0.0063513424, 0.014713302, 0.017401608, -0.01...\n",
            "Name: fasttextEMBD, dtype: object, 5651    [0.011888302, 0.013868752, 0.0063484022, 0.022...\n",
            "Name: fasttextEMBD, dtype: object, 3037    [-0.033991188, 0.041615736, -0.029904053, -0.0...\n",
            "Name: fasttextEMBD, dtype: object]\n"
          ]
        }
      ]
    },
    {
      "cell_type": "code",
      "source": [
        "px = pd.DataFrame()\n",
        "px['token'] = vocab_my_merge['token']"
      ],
      "metadata": {
        "id": "OvAl8-oRP0oe"
      },
      "execution_count": 9,
      "outputs": []
    },
    {
      "cell_type": "code",
      "source": [
        "from sklearn import preprocessing\n",
        "\n",
        "X = preprocessing.normalize(X)\n",
        "y = preprocessing.normalize(y.detach().numpy())"
      ],
      "metadata": {
        "id": "FQsFo_lISU-K"
      },
      "execution_count": 7,
      "outputs": []
    },
    {
      "cell_type": "code",
      "source": [
        "word = 'continue'\n",
        "\n",
        "def calc_similarity(token):\n",
        "    embdbase = model.get_word_vector(word)\n",
        "    embd = model.get_word_vector(str(token))\n",
        "    smltry = (np.dot(embd,embdbase)).item()\n",
        "    return smltry\n",
        "\n",
        "px['similarity'] = px['token'].apply(calc_similarity)\n",
        "\n",
        "px.sort_values(['similarity'], ascending=False).head(20)"
      ],
      "metadata": {
        "colab": {
          "base_uri": "https://localhost:8080/",
          "height": 676
        },
        "id": "g-Ga6VsNyMQK",
        "outputId": "2cc1bf24-4b6a-4017-b9d4-329939636d2c"
      },
      "execution_count": 14,
      "outputs": [
        {
          "output_type": "execute_result",
          "data": {
            "text/plain": [
              "         token  similarity\n",
              "5225  continue    5.613620\n",
              "5339   continu    5.528639\n",
              "604       cont    5.378687\n",
              "3937    temper    4.904650\n",
              "3331     contr    4.738204\n",
              "4828    reduce    4.607238\n",
              "1157    ential    4.459343\n",
              "4589     basic    4.350661\n",
              "825      value    4.315592\n",
              "3917      diff    4.278366\n",
              "4900    expect    4.250066\n",
              "4762   express    4.249517\n",
              "4045     limit    4.249084\n",
              "4182   certain    4.241089\n",
              "3819   contact    4.241072\n",
              "2316      vari    4.228222\n",
              "6307   predict    4.227832\n",
              "5479      dens    4.218691\n",
              "6269       xic    4.205972\n",
              "6295    energy    4.194077"
            ],
            "text/html": [
              "\n",
              "  <div id=\"df-1e470e45-aac6-4ba2-acc8-23da4852ae00\">\n",
              "    <div class=\"colab-df-container\">\n",
              "      <div>\n",
              "<style scoped>\n",
              "    .dataframe tbody tr th:only-of-type {\n",
              "        vertical-align: middle;\n",
              "    }\n",
              "\n",
              "    .dataframe tbody tr th {\n",
              "        vertical-align: top;\n",
              "    }\n",
              "\n",
              "    .dataframe thead th {\n",
              "        text-align: right;\n",
              "    }\n",
              "</style>\n",
              "<table border=\"1\" class=\"dataframe\">\n",
              "  <thead>\n",
              "    <tr style=\"text-align: right;\">\n",
              "      <th></th>\n",
              "      <th>token</th>\n",
              "      <th>similarity</th>\n",
              "    </tr>\n",
              "  </thead>\n",
              "  <tbody>\n",
              "    <tr>\n",
              "      <th>5225</th>\n",
              "      <td>continue</td>\n",
              "      <td>5.613620</td>\n",
              "    </tr>\n",
              "    <tr>\n",
              "      <th>5339</th>\n",
              "      <td>continu</td>\n",
              "      <td>5.528639</td>\n",
              "    </tr>\n",
              "    <tr>\n",
              "      <th>604</th>\n",
              "      <td>cont</td>\n",
              "      <td>5.378687</td>\n",
              "    </tr>\n",
              "    <tr>\n",
              "      <th>3937</th>\n",
              "      <td>temper</td>\n",
              "      <td>4.904650</td>\n",
              "    </tr>\n",
              "    <tr>\n",
              "      <th>3331</th>\n",
              "      <td>contr</td>\n",
              "      <td>4.738204</td>\n",
              "    </tr>\n",
              "    <tr>\n",
              "      <th>4828</th>\n",
              "      <td>reduce</td>\n",
              "      <td>4.607238</td>\n",
              "    </tr>\n",
              "    <tr>\n",
              "      <th>1157</th>\n",
              "      <td>ential</td>\n",
              "      <td>4.459343</td>\n",
              "    </tr>\n",
              "    <tr>\n",
              "      <th>4589</th>\n",
              "      <td>basic</td>\n",
              "      <td>4.350661</td>\n",
              "    </tr>\n",
              "    <tr>\n",
              "      <th>825</th>\n",
              "      <td>value</td>\n",
              "      <td>4.315592</td>\n",
              "    </tr>\n",
              "    <tr>\n",
              "      <th>3917</th>\n",
              "      <td>diff</td>\n",
              "      <td>4.278366</td>\n",
              "    </tr>\n",
              "    <tr>\n",
              "      <th>4900</th>\n",
              "      <td>expect</td>\n",
              "      <td>4.250066</td>\n",
              "    </tr>\n",
              "    <tr>\n",
              "      <th>4762</th>\n",
              "      <td>express</td>\n",
              "      <td>4.249517</td>\n",
              "    </tr>\n",
              "    <tr>\n",
              "      <th>4045</th>\n",
              "      <td>limit</td>\n",
              "      <td>4.249084</td>\n",
              "    </tr>\n",
              "    <tr>\n",
              "      <th>4182</th>\n",
              "      <td>certain</td>\n",
              "      <td>4.241089</td>\n",
              "    </tr>\n",
              "    <tr>\n",
              "      <th>3819</th>\n",
              "      <td>contact</td>\n",
              "      <td>4.241072</td>\n",
              "    </tr>\n",
              "    <tr>\n",
              "      <th>2316</th>\n",
              "      <td>vari</td>\n",
              "      <td>4.228222</td>\n",
              "    </tr>\n",
              "    <tr>\n",
              "      <th>6307</th>\n",
              "      <td>predict</td>\n",
              "      <td>4.227832</td>\n",
              "    </tr>\n",
              "    <tr>\n",
              "      <th>5479</th>\n",
              "      <td>dens</td>\n",
              "      <td>4.218691</td>\n",
              "    </tr>\n",
              "    <tr>\n",
              "      <th>6269</th>\n",
              "      <td>xic</td>\n",
              "      <td>4.205972</td>\n",
              "    </tr>\n",
              "    <tr>\n",
              "      <th>6295</th>\n",
              "      <td>energy</td>\n",
              "      <td>4.194077</td>\n",
              "    </tr>\n",
              "  </tbody>\n",
              "</table>\n",
              "</div>\n",
              "      <button class=\"colab-df-convert\" onclick=\"convertToInteractive('df-1e470e45-aac6-4ba2-acc8-23da4852ae00')\"\n",
              "              title=\"Convert this dataframe to an interactive table.\"\n",
              "              style=\"display:none;\">\n",
              "        \n",
              "  <svg xmlns=\"http://www.w3.org/2000/svg\" height=\"24px\"viewBox=\"0 0 24 24\"\n",
              "       width=\"24px\">\n",
              "    <path d=\"M0 0h24v24H0V0z\" fill=\"none\"/>\n",
              "    <path d=\"M18.56 5.44l.94 2.06.94-2.06 2.06-.94-2.06-.94-.94-2.06-.94 2.06-2.06.94zm-11 1L8.5 8.5l.94-2.06 2.06-.94-2.06-.94L8.5 2.5l-.94 2.06-2.06.94zm10 10l.94 2.06.94-2.06 2.06-.94-2.06-.94-.94-2.06-.94 2.06-2.06.94z\"/><path d=\"M17.41 7.96l-1.37-1.37c-.4-.4-.92-.59-1.43-.59-.52 0-1.04.2-1.43.59L10.3 9.45l-7.72 7.72c-.78.78-.78 2.05 0 2.83L4 21.41c.39.39.9.59 1.41.59.51 0 1.02-.2 1.41-.59l7.78-7.78 2.81-2.81c.8-.78.8-2.07 0-2.86zM5.41 20L4 18.59l7.72-7.72 1.47 1.35L5.41 20z\"/>\n",
              "  </svg>\n",
              "      </button>\n",
              "      \n",
              "  <style>\n",
              "    .colab-df-container {\n",
              "      display:flex;\n",
              "      flex-wrap:wrap;\n",
              "      gap: 12px;\n",
              "    }\n",
              "\n",
              "    .colab-df-convert {\n",
              "      background-color: #E8F0FE;\n",
              "      border: none;\n",
              "      border-radius: 50%;\n",
              "      cursor: pointer;\n",
              "      display: none;\n",
              "      fill: #1967D2;\n",
              "      height: 32px;\n",
              "      padding: 0 0 0 0;\n",
              "      width: 32px;\n",
              "    }\n",
              "\n",
              "    .colab-df-convert:hover {\n",
              "      background-color: #E2EBFA;\n",
              "      box-shadow: 0px 1px 2px rgba(60, 64, 67, 0.3), 0px 1px 3px 1px rgba(60, 64, 67, 0.15);\n",
              "      fill: #174EA6;\n",
              "    }\n",
              "\n",
              "    [theme=dark] .colab-df-convert {\n",
              "      background-color: #3B4455;\n",
              "      fill: #D2E3FC;\n",
              "    }\n",
              "\n",
              "    [theme=dark] .colab-df-convert:hover {\n",
              "      background-color: #434B5C;\n",
              "      box-shadow: 0px 1px 3px 1px rgba(0, 0, 0, 0.15);\n",
              "      filter: drop-shadow(0px 1px 2px rgba(0, 0, 0, 0.3));\n",
              "      fill: #FFFFFF;\n",
              "    }\n",
              "  </style>\n",
              "\n",
              "      <script>\n",
              "        const buttonEl =\n",
              "          document.querySelector('#df-1e470e45-aac6-4ba2-acc8-23da4852ae00 button.colab-df-convert');\n",
              "        buttonEl.style.display =\n",
              "          google.colab.kernel.accessAllowed ? 'block' : 'none';\n",
              "\n",
              "        async function convertToInteractive(key) {\n",
              "          const element = document.querySelector('#df-1e470e45-aac6-4ba2-acc8-23da4852ae00');\n",
              "          const dataTable =\n",
              "            await google.colab.kernel.invokeFunction('convertToInteractive',\n",
              "                                                     [key], {});\n",
              "          if (!dataTable) return;\n",
              "\n",
              "          const docLinkHtml = 'Like what you see? Visit the ' +\n",
              "            '<a target=\"_blank\" href=https://colab.research.google.com/notebooks/data_table.ipynb>data table notebook</a>'\n",
              "            + ' to learn more about interactive tables.';\n",
              "          element.innerHTML = '';\n",
              "          dataTable['output_type'] = 'display_data';\n",
              "          await google.colab.output.renderOutput(dataTable, element);\n",
              "          const docLink = document.createElement('div');\n",
              "          docLink.innerHTML = docLinkHtml;\n",
              "          element.appendChild(docLink);\n",
              "        }\n",
              "      </script>\n",
              "    </div>\n",
              "  </div>\n",
              "  "
            ]
          },
          "metadata": {},
          "execution_count": 14
        }
      ]
    },
    {
      "cell_type": "code",
      "source": [
        "from sklearn import preprocessing\n",
        "#X = torch.load('/content/tensor_X.pt')\n",
        "X = preprocessing.normalize(X)\n"
      ],
      "metadata": {
        "id": "w2o8f3ApShzl"
      },
      "execution_count": 99,
      "outputs": []
    },
    {
      "cell_type": "code",
      "source": [
        "i = 5331\n",
        "print(vocab_my_merge.iloc[i]['token'])\n",
        "\n",
        "def calc_similarity(token):\n",
        "    embdbase = X[i]\n",
        "    embd = X[token]\n",
        "    smltry = (np.dot(embd,embdbase)).item()\n",
        "    return smltry\n",
        "\n",
        "px['similarity'] = px.index.map(calc_similarity)\n",
        "\n",
        "px.sort_values(['similarity'], ascending=False).head(20)"
      ],
      "metadata": {
        "colab": {
          "base_uri": "https://localhost:8080/",
          "height": 694
        },
        "id": "dRR9Cb0qSszA",
        "outputId": "406b9a2d-5b95-4ce2-88ac-1faf01e5c612"
      },
      "execution_count": 25,
      "outputs": [
        {
          "output_type": "stream",
          "name": "stdout",
          "text": [
            "algorithm\n"
          ]
        },
        {
          "output_type": "execute_result",
          "data": {
            "text/plain": [
              "          token  similarity\n",
              "5331  algorithm    1.000000\n",
              "3835    orithms    0.815893\n",
              "2191         ,'    0.787126\n",
              "5763    methods    0.785984\n",
              "4077     prefix    0.775756\n",
              "3226         HE    0.774977\n",
              "1893      false    0.765350\n",
              "6114      digit    0.759255\n",
              "518          \":    0.749483\n",
              "4589      basic    0.748890\n",
              "943       input    0.747750\n",
              "6081      maybe    0.742824\n",
              "2767    summary    0.740586\n",
              "5100    prepare    0.739804\n",
              "4254  something    0.736902\n",
              "5781     aneous    0.735459\n",
              "5169     binary    0.733012\n",
              "5966        RAM    0.732332\n",
              "5854      evalu    0.730506\n",
              "2381         .'    0.729431"
            ],
            "text/html": [
              "\n",
              "  <div id=\"df-0e8ccdb3-025e-4392-928b-2d03ad5000b5\">\n",
              "    <div class=\"colab-df-container\">\n",
              "      <div>\n",
              "<style scoped>\n",
              "    .dataframe tbody tr th:only-of-type {\n",
              "        vertical-align: middle;\n",
              "    }\n",
              "\n",
              "    .dataframe tbody tr th {\n",
              "        vertical-align: top;\n",
              "    }\n",
              "\n",
              "    .dataframe thead th {\n",
              "        text-align: right;\n",
              "    }\n",
              "</style>\n",
              "<table border=\"1\" class=\"dataframe\">\n",
              "  <thead>\n",
              "    <tr style=\"text-align: right;\">\n",
              "      <th></th>\n",
              "      <th>token</th>\n",
              "      <th>similarity</th>\n",
              "    </tr>\n",
              "  </thead>\n",
              "  <tbody>\n",
              "    <tr>\n",
              "      <th>5331</th>\n",
              "      <td>algorithm</td>\n",
              "      <td>1.000000</td>\n",
              "    </tr>\n",
              "    <tr>\n",
              "      <th>3835</th>\n",
              "      <td>orithms</td>\n",
              "      <td>0.815893</td>\n",
              "    </tr>\n",
              "    <tr>\n",
              "      <th>2191</th>\n",
              "      <td>,'</td>\n",
              "      <td>0.787126</td>\n",
              "    </tr>\n",
              "    <tr>\n",
              "      <th>5763</th>\n",
              "      <td>methods</td>\n",
              "      <td>0.785984</td>\n",
              "    </tr>\n",
              "    <tr>\n",
              "      <th>4077</th>\n",
              "      <td>prefix</td>\n",
              "      <td>0.775756</td>\n",
              "    </tr>\n",
              "    <tr>\n",
              "      <th>3226</th>\n",
              "      <td>HE</td>\n",
              "      <td>0.774977</td>\n",
              "    </tr>\n",
              "    <tr>\n",
              "      <th>1893</th>\n",
              "      <td>false</td>\n",
              "      <td>0.765350</td>\n",
              "    </tr>\n",
              "    <tr>\n",
              "      <th>6114</th>\n",
              "      <td>digit</td>\n",
              "      <td>0.759255</td>\n",
              "    </tr>\n",
              "    <tr>\n",
              "      <th>518</th>\n",
              "      <td>\":</td>\n",
              "      <td>0.749483</td>\n",
              "    </tr>\n",
              "    <tr>\n",
              "      <th>4589</th>\n",
              "      <td>basic</td>\n",
              "      <td>0.748890</td>\n",
              "    </tr>\n",
              "    <tr>\n",
              "      <th>943</th>\n",
              "      <td>input</td>\n",
              "      <td>0.747750</td>\n",
              "    </tr>\n",
              "    <tr>\n",
              "      <th>6081</th>\n",
              "      <td>maybe</td>\n",
              "      <td>0.742824</td>\n",
              "    </tr>\n",
              "    <tr>\n",
              "      <th>2767</th>\n",
              "      <td>summary</td>\n",
              "      <td>0.740586</td>\n",
              "    </tr>\n",
              "    <tr>\n",
              "      <th>5100</th>\n",
              "      <td>prepare</td>\n",
              "      <td>0.739804</td>\n",
              "    </tr>\n",
              "    <tr>\n",
              "      <th>4254</th>\n",
              "      <td>something</td>\n",
              "      <td>0.736902</td>\n",
              "    </tr>\n",
              "    <tr>\n",
              "      <th>5781</th>\n",
              "      <td>aneous</td>\n",
              "      <td>0.735459</td>\n",
              "    </tr>\n",
              "    <tr>\n",
              "      <th>5169</th>\n",
              "      <td>binary</td>\n",
              "      <td>0.733012</td>\n",
              "    </tr>\n",
              "    <tr>\n",
              "      <th>5966</th>\n",
              "      <td>RAM</td>\n",
              "      <td>0.732332</td>\n",
              "    </tr>\n",
              "    <tr>\n",
              "      <th>5854</th>\n",
              "      <td>evalu</td>\n",
              "      <td>0.730506</td>\n",
              "    </tr>\n",
              "    <tr>\n",
              "      <th>2381</th>\n",
              "      <td>.'</td>\n",
              "      <td>0.729431</td>\n",
              "    </tr>\n",
              "  </tbody>\n",
              "</table>\n",
              "</div>\n",
              "      <button class=\"colab-df-convert\" onclick=\"convertToInteractive('df-0e8ccdb3-025e-4392-928b-2d03ad5000b5')\"\n",
              "              title=\"Convert this dataframe to an interactive table.\"\n",
              "              style=\"display:none;\">\n",
              "        \n",
              "  <svg xmlns=\"http://www.w3.org/2000/svg\" height=\"24px\"viewBox=\"0 0 24 24\"\n",
              "       width=\"24px\">\n",
              "    <path d=\"M0 0h24v24H0V0z\" fill=\"none\"/>\n",
              "    <path d=\"M18.56 5.44l.94 2.06.94-2.06 2.06-.94-2.06-.94-.94-2.06-.94 2.06-2.06.94zm-11 1L8.5 8.5l.94-2.06 2.06-.94-2.06-.94L8.5 2.5l-.94 2.06-2.06.94zm10 10l.94 2.06.94-2.06 2.06-.94-2.06-.94-.94-2.06-.94 2.06-2.06.94z\"/><path d=\"M17.41 7.96l-1.37-1.37c-.4-.4-.92-.59-1.43-.59-.52 0-1.04.2-1.43.59L10.3 9.45l-7.72 7.72c-.78.78-.78 2.05 0 2.83L4 21.41c.39.39.9.59 1.41.59.51 0 1.02-.2 1.41-.59l7.78-7.78 2.81-2.81c.8-.78.8-2.07 0-2.86zM5.41 20L4 18.59l7.72-7.72 1.47 1.35L5.41 20z\"/>\n",
              "  </svg>\n",
              "      </button>\n",
              "      \n",
              "  <style>\n",
              "    .colab-df-container {\n",
              "      display:flex;\n",
              "      flex-wrap:wrap;\n",
              "      gap: 12px;\n",
              "    }\n",
              "\n",
              "    .colab-df-convert {\n",
              "      background-color: #E8F0FE;\n",
              "      border: none;\n",
              "      border-radius: 50%;\n",
              "      cursor: pointer;\n",
              "      display: none;\n",
              "      fill: #1967D2;\n",
              "      height: 32px;\n",
              "      padding: 0 0 0 0;\n",
              "      width: 32px;\n",
              "    }\n",
              "\n",
              "    .colab-df-convert:hover {\n",
              "      background-color: #E2EBFA;\n",
              "      box-shadow: 0px 1px 2px rgba(60, 64, 67, 0.3), 0px 1px 3px 1px rgba(60, 64, 67, 0.15);\n",
              "      fill: #174EA6;\n",
              "    }\n",
              "\n",
              "    [theme=dark] .colab-df-convert {\n",
              "      background-color: #3B4455;\n",
              "      fill: #D2E3FC;\n",
              "    }\n",
              "\n",
              "    [theme=dark] .colab-df-convert:hover {\n",
              "      background-color: #434B5C;\n",
              "      box-shadow: 0px 1px 3px 1px rgba(0, 0, 0, 0.15);\n",
              "      filter: drop-shadow(0px 1px 2px rgba(0, 0, 0, 0.3));\n",
              "      fill: #FFFFFF;\n",
              "    }\n",
              "  </style>\n",
              "\n",
              "      <script>\n",
              "        const buttonEl =\n",
              "          document.querySelector('#df-0e8ccdb3-025e-4392-928b-2d03ad5000b5 button.colab-df-convert');\n",
              "        buttonEl.style.display =\n",
              "          google.colab.kernel.accessAllowed ? 'block' : 'none';\n",
              "\n",
              "        async function convertToInteractive(key) {\n",
              "          const element = document.querySelector('#df-0e8ccdb3-025e-4392-928b-2d03ad5000b5');\n",
              "          const dataTable =\n",
              "            await google.colab.kernel.invokeFunction('convertToInteractive',\n",
              "                                                     [key], {});\n",
              "          if (!dataTable) return;\n",
              "\n",
              "          const docLinkHtml = 'Like what you see? Visit the ' +\n",
              "            '<a target=\"_blank\" href=https://colab.research.google.com/notebooks/data_table.ipynb>data table notebook</a>'\n",
              "            + ' to learn more about interactive tables.';\n",
              "          element.innerHTML = '';\n",
              "          dataTable['output_type'] = 'display_data';\n",
              "          await google.colab.output.renderOutput(dataTable, element);\n",
              "          const docLink = document.createElement('div');\n",
              "          docLink.innerHTML = docLinkHtml;\n",
              "          element.appendChild(docLink);\n",
              "        }\n",
              "      </script>\n",
              "    </div>\n",
              "  </div>\n",
              "  "
            ]
          },
          "metadata": {},
          "execution_count": 25
        }
      ]
    },
    {
      "cell_type": "code",
      "source": [
        "#@title\n",
        "#y = preprocessing.normalize(y.detach().numpy())\n",
        "i = 5331\n",
        "print(vocab_my_merge.iloc[i]['token'])\n",
        "\n",
        "def calc_similarity(token):\n",
        "    embdbase = y[i]\n",
        "    embd = y[token]\n",
        "    smltry = (np.dot(embd,embdbase)).item()\n",
        "    return smltry\n",
        "\n",
        "px['similarity'] = px.index.map(calc_similarity)\n",
        "\n",
        "px.sort_values(['similarity'], ascending=False).head(20)"
      ],
      "metadata": {
        "colab": {
          "base_uri": "https://localhost:8080/",
          "height": 694
        },
        "id": "Hoo_3SRAU5mx",
        "outputId": "804c68c0-5359-415c-cb34-6ed74889b0f0"
      },
      "execution_count": 26,
      "outputs": [
        {
          "output_type": "stream",
          "name": "stdout",
          "text": [
            "algorithm\n"
          ]
        },
        {
          "output_type": "execute_result",
          "data": {
            "text/plain": [
              "             token  similarity\n",
              "5331     algorithm    1.000000\n",
              "3835       orithms    0.320109\n",
              "5611           Alg    0.232672\n",
              "4289       theorem    0.209331\n",
              "1890        figure    0.202061\n",
              "3218           alg    0.192669\n",
              "6472       Machine    0.176764\n",
              "5310      software    0.168277\n",
              "1167      equation    0.163490\n",
              "1069         table    0.158781\n",
              "5767       machine    0.152089\n",
              "2526     developer    0.150545\n",
              "5763       methods    0.148876\n",
              "2899    controller    0.147499\n",
              "2571      operator    0.147349\n",
              "5295       numbers    0.147075\n",
              "6019  architecture    0.145813\n",
              "6150     processor    0.145436\n",
              "4662    definition    0.144455\n",
              "4782       problem    0.143634"
            ],
            "text/html": [
              "\n",
              "  <div id=\"df-5744e11d-8a91-4858-8e13-8858dbf91ae3\">\n",
              "    <div class=\"colab-df-container\">\n",
              "      <div>\n",
              "<style scoped>\n",
              "    .dataframe tbody tr th:only-of-type {\n",
              "        vertical-align: middle;\n",
              "    }\n",
              "\n",
              "    .dataframe tbody tr th {\n",
              "        vertical-align: top;\n",
              "    }\n",
              "\n",
              "    .dataframe thead th {\n",
              "        text-align: right;\n",
              "    }\n",
              "</style>\n",
              "<table border=\"1\" class=\"dataframe\">\n",
              "  <thead>\n",
              "    <tr style=\"text-align: right;\">\n",
              "      <th></th>\n",
              "      <th>token</th>\n",
              "      <th>similarity</th>\n",
              "    </tr>\n",
              "  </thead>\n",
              "  <tbody>\n",
              "    <tr>\n",
              "      <th>5331</th>\n",
              "      <td>algorithm</td>\n",
              "      <td>1.000000</td>\n",
              "    </tr>\n",
              "    <tr>\n",
              "      <th>3835</th>\n",
              "      <td>orithms</td>\n",
              "      <td>0.320109</td>\n",
              "    </tr>\n",
              "    <tr>\n",
              "      <th>5611</th>\n",
              "      <td>Alg</td>\n",
              "      <td>0.232672</td>\n",
              "    </tr>\n",
              "    <tr>\n",
              "      <th>4289</th>\n",
              "      <td>theorem</td>\n",
              "      <td>0.209331</td>\n",
              "    </tr>\n",
              "    <tr>\n",
              "      <th>1890</th>\n",
              "      <td>figure</td>\n",
              "      <td>0.202061</td>\n",
              "    </tr>\n",
              "    <tr>\n",
              "      <th>3218</th>\n",
              "      <td>alg</td>\n",
              "      <td>0.192669</td>\n",
              "    </tr>\n",
              "    <tr>\n",
              "      <th>6472</th>\n",
              "      <td>Machine</td>\n",
              "      <td>0.176764</td>\n",
              "    </tr>\n",
              "    <tr>\n",
              "      <th>5310</th>\n",
              "      <td>software</td>\n",
              "      <td>0.168277</td>\n",
              "    </tr>\n",
              "    <tr>\n",
              "      <th>1167</th>\n",
              "      <td>equation</td>\n",
              "      <td>0.163490</td>\n",
              "    </tr>\n",
              "    <tr>\n",
              "      <th>1069</th>\n",
              "      <td>table</td>\n",
              "      <td>0.158781</td>\n",
              "    </tr>\n",
              "    <tr>\n",
              "      <th>5767</th>\n",
              "      <td>machine</td>\n",
              "      <td>0.152089</td>\n",
              "    </tr>\n",
              "    <tr>\n",
              "      <th>2526</th>\n",
              "      <td>developer</td>\n",
              "      <td>0.150545</td>\n",
              "    </tr>\n",
              "    <tr>\n",
              "      <th>5763</th>\n",
              "      <td>methods</td>\n",
              "      <td>0.148876</td>\n",
              "    </tr>\n",
              "    <tr>\n",
              "      <th>2899</th>\n",
              "      <td>controller</td>\n",
              "      <td>0.147499</td>\n",
              "    </tr>\n",
              "    <tr>\n",
              "      <th>2571</th>\n",
              "      <td>operator</td>\n",
              "      <td>0.147349</td>\n",
              "    </tr>\n",
              "    <tr>\n",
              "      <th>5295</th>\n",
              "      <td>numbers</td>\n",
              "      <td>0.147075</td>\n",
              "    </tr>\n",
              "    <tr>\n",
              "      <th>6019</th>\n",
              "      <td>architecture</td>\n",
              "      <td>0.145813</td>\n",
              "    </tr>\n",
              "    <tr>\n",
              "      <th>6150</th>\n",
              "      <td>processor</td>\n",
              "      <td>0.145436</td>\n",
              "    </tr>\n",
              "    <tr>\n",
              "      <th>4662</th>\n",
              "      <td>definition</td>\n",
              "      <td>0.144455</td>\n",
              "    </tr>\n",
              "    <tr>\n",
              "      <th>4782</th>\n",
              "      <td>problem</td>\n",
              "      <td>0.143634</td>\n",
              "    </tr>\n",
              "  </tbody>\n",
              "</table>\n",
              "</div>\n",
              "      <button class=\"colab-df-convert\" onclick=\"convertToInteractive('df-5744e11d-8a91-4858-8e13-8858dbf91ae3')\"\n",
              "              title=\"Convert this dataframe to an interactive table.\"\n",
              "              style=\"display:none;\">\n",
              "        \n",
              "  <svg xmlns=\"http://www.w3.org/2000/svg\" height=\"24px\"viewBox=\"0 0 24 24\"\n",
              "       width=\"24px\">\n",
              "    <path d=\"M0 0h24v24H0V0z\" fill=\"none\"/>\n",
              "    <path d=\"M18.56 5.44l.94 2.06.94-2.06 2.06-.94-2.06-.94-.94-2.06-.94 2.06-2.06.94zm-11 1L8.5 8.5l.94-2.06 2.06-.94-2.06-.94L8.5 2.5l-.94 2.06-2.06.94zm10 10l.94 2.06.94-2.06 2.06-.94-2.06-.94-.94-2.06-.94 2.06-2.06.94z\"/><path d=\"M17.41 7.96l-1.37-1.37c-.4-.4-.92-.59-1.43-.59-.52 0-1.04.2-1.43.59L10.3 9.45l-7.72 7.72c-.78.78-.78 2.05 0 2.83L4 21.41c.39.39.9.59 1.41.59.51 0 1.02-.2 1.41-.59l7.78-7.78 2.81-2.81c.8-.78.8-2.07 0-2.86zM5.41 20L4 18.59l7.72-7.72 1.47 1.35L5.41 20z\"/>\n",
              "  </svg>\n",
              "      </button>\n",
              "      \n",
              "  <style>\n",
              "    .colab-df-container {\n",
              "      display:flex;\n",
              "      flex-wrap:wrap;\n",
              "      gap: 12px;\n",
              "    }\n",
              "\n",
              "    .colab-df-convert {\n",
              "      background-color: #E8F0FE;\n",
              "      border: none;\n",
              "      border-radius: 50%;\n",
              "      cursor: pointer;\n",
              "      display: none;\n",
              "      fill: #1967D2;\n",
              "      height: 32px;\n",
              "      padding: 0 0 0 0;\n",
              "      width: 32px;\n",
              "    }\n",
              "\n",
              "    .colab-df-convert:hover {\n",
              "      background-color: #E2EBFA;\n",
              "      box-shadow: 0px 1px 2px rgba(60, 64, 67, 0.3), 0px 1px 3px 1px rgba(60, 64, 67, 0.15);\n",
              "      fill: #174EA6;\n",
              "    }\n",
              "\n",
              "    [theme=dark] .colab-df-convert {\n",
              "      background-color: #3B4455;\n",
              "      fill: #D2E3FC;\n",
              "    }\n",
              "\n",
              "    [theme=dark] .colab-df-convert:hover {\n",
              "      background-color: #434B5C;\n",
              "      box-shadow: 0px 1px 3px 1px rgba(0, 0, 0, 0.15);\n",
              "      filter: drop-shadow(0px 1px 2px rgba(0, 0, 0, 0.3));\n",
              "      fill: #FFFFFF;\n",
              "    }\n",
              "  </style>\n",
              "\n",
              "      <script>\n",
              "        const buttonEl =\n",
              "          document.querySelector('#df-5744e11d-8a91-4858-8e13-8858dbf91ae3 button.colab-df-convert');\n",
              "        buttonEl.style.display =\n",
              "          google.colab.kernel.accessAllowed ? 'block' : 'none';\n",
              "\n",
              "        async function convertToInteractive(key) {\n",
              "          const element = document.querySelector('#df-5744e11d-8a91-4858-8e13-8858dbf91ae3');\n",
              "          const dataTable =\n",
              "            await google.colab.kernel.invokeFunction('convertToInteractive',\n",
              "                                                     [key], {});\n",
              "          if (!dataTable) return;\n",
              "\n",
              "          const docLinkHtml = 'Like what you see? Visit the ' +\n",
              "            '<a target=\"_blank\" href=https://colab.research.google.com/notebooks/data_table.ipynb>data table notebook</a>'\n",
              "            + ' to learn more about interactive tables.';\n",
              "          element.innerHTML = '';\n",
              "          dataTable['output_type'] = 'display_data';\n",
              "          await google.colab.output.renderOutput(dataTable, element);\n",
              "          const docLink = document.createElement('div');\n",
              "          docLink.innerHTML = docLinkHtml;\n",
              "          element.appendChild(docLink);\n",
              "        }\n",
              "      </script>\n",
              "    </div>\n",
              "  </div>\n",
              "  "
            ]
          },
          "metadata": {},
          "execution_count": 26
        }
      ]
    },
    {
      "cell_type": "code",
      "source": [
        "np.dot(model.get_word_vector('continu'),model.get_word_vector('continu'))"
      ],
      "metadata": {
        "colab": {
          "base_uri": "https://localhost:8080/"
        },
        "id": "pnU-chkg0NCN",
        "outputId": "242547d7-28e8-4dc4-df7f-7201a305ff73"
      },
      "execution_count": 72,
      "outputs": [
        {
          "output_type": "execute_result",
          "data": {
            "text/plain": [
              "19.041481"
            ]
          },
          "metadata": {},
          "execution_count": 72
        }
      ]
    },
    {
      "cell_type": "code",
      "source": [
        "np.dot(y[1959].detach().numpy(),y[5419].detach().numpy())"
      ],
      "metadata": {
        "colab": {
          "base_uri": "https://localhost:8080/"
        },
        "id": "6vgdbK3t6MHH",
        "outputId": "17b536d6-0628-47d4-b5c5-4ef7cd5e4eff"
      },
      "execution_count": 78,
      "outputs": [
        {
          "output_type": "execute_result",
          "data": {
            "text/plain": [
              "0.1178751"
            ]
          },
          "metadata": {},
          "execution_count": 78
        }
      ]
    },
    {
      "cell_type": "code",
      "source": [
        "tnsdataset[5419]"
      ],
      "metadata": {
        "colab": {
          "base_uri": "https://localhost:8080/"
        },
        "id": "Qij4beIay0Jc",
        "outputId": "aa2a9b7a-1e91-488f-c643-3bd012db7515"
      },
      "execution_count": 44,
      "outputs": [
        {
          "output_type": "execute_result",
          "data": {
            "text/plain": [
              "(tensor([-0.0212,  0.0089, -0.0247,  ...,  0.0198, -0.0225,  0.0369]),\n",
              " tensor([-0.0158,  0.0063,  0.0161,  ...,  0.0139,  0.0273,  0.0122],\n",
              "        grad_fn=<SelectBackward0>))"
            ]
          },
          "metadata": {},
          "execution_count": 44
        }
      ]
    },
    {
      "cell_type": "code",
      "source": [
        "for m in llamaEMBD_l:\n",
        "  llamaEMBD_l[m].values"
      ],
      "metadata": {
        "colab": {
          "base_uri": "https://localhost:8080/"
        },
        "id": "e5Jl_7BAwZly",
        "outputId": "f27c6388-1e28-4e8a-e6e3-4b66e1605157"
      },
      "execution_count": 37,
      "outputs": [
        {
          "output_type": "execute_result",
          "data": {
            "text/plain": [
              "array(['[-0.01584   0.006325  0.01605  ...  0.01392   0.0273    0.01215 ]'],\n",
              "      dtype=object)"
            ]
          },
          "metadata": {},
          "execution_count": 37
        }
      ]
    },
    {
      "cell_type": "code",
      "source": [
        "vocab_my_merge.to_excel('merge_myfast_llama.xlsx')"
      ],
      "metadata": {
        "id": "EDwdYVmpiTzf"
      },
      "execution_count": 10,
      "outputs": []
    },
    {
      "cell_type": "code",
      "source": [
        "import fasttext\n",
        "model =  fasttext.load_model('/content/fasttext_simple_dim2048_cbow.model')"
      ],
      "metadata": {
        "colab": {
          "base_uri": "https://localhost:8080/"
        },
        "id": "-zOt2OX1mwuw",
        "outputId": "6af58b42-524a-4dc9-b0b3-4b2608402144"
      },
      "execution_count": 9,
      "outputs": [
        {
          "output_type": "stream",
          "name": "stderr",
          "text": [
            "Warning : `load_model` does not return WordVectorModel or SupervisedModel any more, but a `FastText` object which is very similar.\n"
          ]
        }
      ]
    },
    {
      "cell_type": "code",
      "source": [
        "import pandas as pd\n",
        "vocab_my_merge = pd.read_excel('merge_myfast_llama.xlsx')\n",
        "import fasttext\n",
        "model =  fasttext.load_model('fasttext_simple_dim2048_cbow.model')\n"
      ],
      "metadata": {
        "id": "rjgPKcmLl2EG"
      },
      "execution_count": null,
      "outputs": []
    },
    {
      "cell_type": "code",
      "source": [
        "import torch\n",
        "llamaemmbding = torch.load('/content/drive/MyDrive/DataSet/embeding_tensor_7b_llama.pt')"
      ],
      "metadata": {
        "id": "kdZJ4hjFoefT"
      },
      "execution_count": 1,
      "outputs": []
    },
    {
      "cell_type": "code",
      "source": [
        "import pandas as pd\n",
        "vocab_my_merge = pd.read_excel('/content/mymergewithllama.xlsx')"
      ],
      "metadata": {
        "id": "mMfkYYjWovMS"
      },
      "execution_count": 2,
      "outputs": []
    },
    {
      "cell_type": "code",
      "source": [
        "for index, row in vocab_my_merge.iterrows():\n",
        "    print(row['token'])\n",
        "    model.get_word_vector(str(row['token']))"
      ],
      "metadata": {
        "id": "4DrhV0Bi3FJb"
      },
      "execution_count": null,
      "outputs": []
    },
    {
      "cell_type": "code",
      "source": [
        "model.get_word_vector('nan')"
      ],
      "metadata": {
        "colab": {
          "base_uri": "https://localhost:8080/"
        },
        "id": "N8TLlQGp4A8F",
        "outputId": "8587dd7b-3f77-49f3-cbf0-207dcb60ebf9"
      },
      "execution_count": 65,
      "outputs": [
        {
          "output_type": "execute_result",
          "data": {
            "text/plain": [
              "array([ 0.08229809, -0.04106521, -0.0765834 , ...,  0.23380236,\n",
              "       -0.24653788,  0.07557469], dtype=float32)"
            ]
          },
          "metadata": {},
          "execution_count": 65
        }
      ]
    },
    {
      "cell_type": "code",
      "source": [
        "import torch\n",
        "from torch.utils.data import TensorDataset\n",
        "\n",
        "X = torch.empty(0, 2048)\n",
        "y = torch.empty(0, 4096)\n",
        "\n",
        "for index, row in vocab_my_merge.iterrows():\n",
        "    ##row_tensor_X = torch.tensor(model.get_word_vector(str(row['token'])))\n",
        "    #X = torch.cat((X, row_tensor_X.unsqueeze(0)), dim=0)\n",
        "\n",
        "    row_tensor_y = llamaemmbding[row['llamaids']]\n",
        "    y = torch.cat((y, row_tensor_y.unsqueeze(0)), dim=0)"
      ],
      "metadata": {
        "id": "k-Z7ZAz5kD3Y"
      },
      "execution_count": 3,
      "outputs": []
    },
    {
      "cell_type": "code",
      "source": [
        "torch.save(X, 'tensor_X.pt')"
      ],
      "metadata": {
        "id": "wMioXOIbk951"
      },
      "execution_count": 22,
      "outputs": []
    },
    {
      "cell_type": "code",
      "source": [
        "torch.save(y, 'tensor_y.pt')"
      ],
      "metadata": {
        "id": "J1u0_kqdlO-r"
      },
      "execution_count": 4,
      "outputs": []
    },
    {
      "cell_type": "code",
      "source": [
        "X = torch.load('/content/tensor_X.pt')\n",
        "y = torch.load('/content/tensor_y.pt')\n",
        "tnsdataset = TensorDataset(X, y)\n",
        "torch.save(tnsdataset, '/content/drive/MyDrive/DataSet/fasttext/newSkiptnsdataset.pt')"
      ],
      "metadata": {
        "id": "Yp4HuydalR_c"
      },
      "execution_count": 5,
      "outputs": []
    },
    {
      "cell_type": "code",
      "source": [
        "np.dot(X[0],X[0])"
      ],
      "metadata": {
        "colab": {
          "base_uri": "https://localhost:8080/"
        },
        "id": "zbAoqxXW58ap",
        "outputId": "2513d1d6-23cf-4a80-93a8-7c31d3f8f02a"
      },
      "execution_count": 70,
      "outputs": [
        {
          "output_type": "execute_result",
          "data": {
            "text/plain": [
              "74.56377"
            ]
          },
          "metadata": {},
          "execution_count": 70
        }
      ]
    }
  ]
}